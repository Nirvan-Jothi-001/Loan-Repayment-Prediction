{
 "cells": [
  {
   "cell_type": "markdown",
   "id": "ec0b7064",
   "metadata": {},
   "source": [
    "# Project Statement and Objective"
   ]
  },
  {
   "attachments": {},
   "cell_type": "markdown",
   "id": "d1a4d783",
   "metadata": {},
   "source": [
    "In the financial industry, it is crucial for lenders to assess the credit worthiness of borrowers before granting loans or credit. Identifying potential defaulters, who are at higher risk of failing to repay their debts, can help mitigate financial losses and maintain a healthy lending portfolio. The goal of this project is to develop a predictive model that can accurately classify borrowers as defaulters or non-defaulters based on various financial and demographic factors.\n",
    "\n",
    "To create a machine learning model to predict the defaulter and Non-defaulter by analyzing historical data"
   ]
  },
  {
   "cell_type": "code",
   "execution_count": 1,
   "id": "d7a625f1",
   "metadata": {},
   "outputs": [],
   "source": [
    "# Import required libraries\n",
    "\n",
    "import pandas as pd\n",
    "import numpy as np\n",
    "import matplotlib.pyplot as plt\n",
    "import seaborn as sns\n",
    "import os\n",
    "\n",
    "from sklearn import metrics\n",
    "from sklearn.cluster import KMeans\n",
    "\n",
    "from sklearn import linear_model\n",
    "from sklearn.metrics import mean_squared_error, r2_score\n",
    "\n",
    "\n",
    "from sklearn.model_selection import train_test_split\n",
    "from sklearn import metrics\n",
    "\n",
    "\n",
    "from sklearn.preprocessing import OneHotEncoder\n",
    "from sklearn.preprocessing import LabelEncoder"
   ]
  },
  {
   "cell_type": "code",
   "execution_count": 2,
   "id": "68744711",
   "metadata": {},
   "outputs": [],
   "source": [
    "import warnings\n",
    "warnings.filterwarnings(\"ignore\")"
   ]
  },
  {
   "cell_type": "code",
   "execution_count": 3,
   "id": "68a71f18",
   "metadata": {},
   "outputs": [
    {
     "data": {
      "text/html": [
       "<div>\n",
       "<style scoped>\n",
       "    .dataframe tbody tr th:only-of-type {\n",
       "        vertical-align: middle;\n",
       "    }\n",
       "\n",
       "    .dataframe tbody tr th {\n",
       "        vertical-align: top;\n",
       "    }\n",
       "\n",
       "    .dataframe thead th {\n",
       "        text-align: right;\n",
       "    }\n",
       "</style>\n",
       "<table border=\"1\" class=\"dataframe\">\n",
       "  <thead>\n",
       "    <tr style=\"text-align: right;\">\n",
       "      <th></th>\n",
       "      <th>customer_id</th>\n",
       "      <th>loan_id</th>\n",
       "      <th>loan_type</th>\n",
       "      <th>loan_amount</th>\n",
       "      <th>interest_rate</th>\n",
       "      <th>loan_term</th>\n",
       "      <th>employment_type</th>\n",
       "      <th>income_level</th>\n",
       "      <th>credit_score</th>\n",
       "      <th>gender</th>\n",
       "      <th>marital_status</th>\n",
       "      <th>education_level</th>\n",
       "      <th>application_date</th>\n",
       "      <th>approval_date</th>\n",
       "      <th>disbursement_date</th>\n",
       "      <th>due_date</th>\n",
       "      <th>default_status</th>\n",
       "    </tr>\n",
       "  </thead>\n",
       "  <tbody>\n",
       "    <tr>\n",
       "      <th>0</th>\n",
       "      <td>CUST-00004912</td>\n",
       "      <td>LN00004170</td>\n",
       "      <td>Car Loan</td>\n",
       "      <td>16795</td>\n",
       "      <td>0.051852</td>\n",
       "      <td>15</td>\n",
       "      <td>Self-employed</td>\n",
       "      <td>Medium</td>\n",
       "      <td>833</td>\n",
       "      <td>Male</td>\n",
       "      <td>Single</td>\n",
       "      <td>Master</td>\n",
       "      <td>05-04-2018</td>\n",
       "      <td>23-04-2018</td>\n",
       "      <td>24-04-2018</td>\n",
       "      <td>14-08-2018</td>\n",
       "      <td>False</td>\n",
       "    </tr>\n",
       "    <tr>\n",
       "      <th>1</th>\n",
       "      <td>CUST-00004194</td>\n",
       "      <td>LN00002413</td>\n",
       "      <td>Personal Loan</td>\n",
       "      <td>1860</td>\n",
       "      <td>0.089296</td>\n",
       "      <td>56</td>\n",
       "      <td>Full-time</td>\n",
       "      <td>Medium</td>\n",
       "      <td>776</td>\n",
       "      <td>Female</td>\n",
       "      <td>Married</td>\n",
       "      <td>Bachelor</td>\n",
       "      <td>30-12-2022</td>\n",
       "      <td>31-12-2022</td>\n",
       "      <td>12-01-2023</td>\n",
       "      <td>05-04-2023</td>\n",
       "      <td>False</td>\n",
       "    </tr>\n",
       "    <tr>\n",
       "      <th>2</th>\n",
       "      <td>CUST-00003610</td>\n",
       "      <td>LN00000024</td>\n",
       "      <td>Personal Loan</td>\n",
       "      <td>77820</td>\n",
       "      <td>0.070470</td>\n",
       "      <td>51</td>\n",
       "      <td>Full-time</td>\n",
       "      <td>Low</td>\n",
       "      <td>697</td>\n",
       "      <td>Male</td>\n",
       "      <td>Divorced</td>\n",
       "      <td>High School</td>\n",
       "      <td>15-11-2019</td>\n",
       "      <td>18-11-2019</td>\n",
       "      <td>27-11-2019</td>\n",
       "      <td>24-02-2020</td>\n",
       "      <td>False</td>\n",
       "    </tr>\n",
       "    <tr>\n",
       "      <th>3</th>\n",
       "      <td>CUST-00001895</td>\n",
       "      <td>LN00001742</td>\n",
       "      <td>Car Loan</td>\n",
       "      <td>55886</td>\n",
       "      <td>0.062155</td>\n",
       "      <td>30</td>\n",
       "      <td>Full-time</td>\n",
       "      <td>Low</td>\n",
       "      <td>795</td>\n",
       "      <td>Female</td>\n",
       "      <td>Married</td>\n",
       "      <td>PhD</td>\n",
       "      <td>25-08-2021</td>\n",
       "      <td>08-09-2021</td>\n",
       "      <td>11-09-2021</td>\n",
       "      <td>25-02-2022</td>\n",
       "      <td>False</td>\n",
       "    </tr>\n",
       "    <tr>\n",
       "      <th>4</th>\n",
       "      <td>CUST-00003782</td>\n",
       "      <td>LN00003161</td>\n",
       "      <td>Home Loan</td>\n",
       "      <td>7265</td>\n",
       "      <td>0.070635</td>\n",
       "      <td>48</td>\n",
       "      <td>Part-time</td>\n",
       "      <td>Low</td>\n",
       "      <td>519</td>\n",
       "      <td>Female</td>\n",
       "      <td>Married</td>\n",
       "      <td>High School</td>\n",
       "      <td>02-09-2020</td>\n",
       "      <td>07-09-2020</td>\n",
       "      <td>11-09-2020</td>\n",
       "      <td>29-12-2020</td>\n",
       "      <td>False</td>\n",
       "    </tr>\n",
       "    <tr>\n",
       "      <th>5</th>\n",
       "      <td>CUST-00002287</td>\n",
       "      <td>LN00003606</td>\n",
       "      <td>Car Loan</td>\n",
       "      <td>83386</td>\n",
       "      <td>0.077232</td>\n",
       "      <td>13</td>\n",
       "      <td>Self-employed</td>\n",
       "      <td>Medium</td>\n",
       "      <td>472</td>\n",
       "      <td>Male</td>\n",
       "      <td>Divorced</td>\n",
       "      <td>PhD</td>\n",
       "      <td>17-03-2021</td>\n",
       "      <td>17-03-2021</td>\n",
       "      <td>29-03-2021</td>\n",
       "      <td>25-06-2021</td>\n",
       "      <td>False</td>\n",
       "    </tr>\n",
       "    <tr>\n",
       "      <th>6</th>\n",
       "      <td>CUST-00004571</td>\n",
       "      <td>LN00003372</td>\n",
       "      <td>Car Loan</td>\n",
       "      <td>38194</td>\n",
       "      <td>0.070929</td>\n",
       "      <td>26</td>\n",
       "      <td>Part-time</td>\n",
       "      <td>High</td>\n",
       "      <td>689</td>\n",
       "      <td>Male</td>\n",
       "      <td>Married</td>\n",
       "      <td>PhD</td>\n",
       "      <td>04-09-2021</td>\n",
       "      <td>21-09-2021</td>\n",
       "      <td>04-10-2021</td>\n",
       "      <td>18-12-2021</td>\n",
       "      <td>False</td>\n",
       "    </tr>\n",
       "    <tr>\n",
       "      <th>7</th>\n",
       "      <td>CUST-00002572</td>\n",
       "      <td>LN00002092</td>\n",
       "      <td>Car Loan</td>\n",
       "      <td>88498</td>\n",
       "      <td>0.046917</td>\n",
       "      <td>13</td>\n",
       "      <td>Part-time</td>\n",
       "      <td>Low</td>\n",
       "      <td>801</td>\n",
       "      <td>Female</td>\n",
       "      <td>Divorced</td>\n",
       "      <td>High School</td>\n",
       "      <td>17-04-2021</td>\n",
       "      <td>24-04-2021</td>\n",
       "      <td>07-05-2021</td>\n",
       "      <td>24-10-2021</td>\n",
       "      <td>False</td>\n",
       "    </tr>\n",
       "    <tr>\n",
       "      <th>8</th>\n",
       "      <td>CUST-00001416</td>\n",
       "      <td>LN00001061</td>\n",
       "      <td>Home Loan</td>\n",
       "      <td>45131</td>\n",
       "      <td>0.093456</td>\n",
       "      <td>22</td>\n",
       "      <td>Self-employed</td>\n",
       "      <td>Low</td>\n",
       "      <td>559</td>\n",
       "      <td>Male</td>\n",
       "      <td>Divorced</td>\n",
       "      <td>Master</td>\n",
       "      <td>16-10-2019</td>\n",
       "      <td>28-10-2019</td>\n",
       "      <td>29-10-2019</td>\n",
       "      <td>28-02-2020</td>\n",
       "      <td>False</td>\n",
       "    </tr>\n",
       "    <tr>\n",
       "      <th>9</th>\n",
       "      <td>CUST-00000009</td>\n",
       "      <td>LN00003352</td>\n",
       "      <td>Education Loan</td>\n",
       "      <td>61263</td>\n",
       "      <td>0.099123</td>\n",
       "      <td>56</td>\n",
       "      <td>Self-employed</td>\n",
       "      <td>Low</td>\n",
       "      <td>430</td>\n",
       "      <td>Male</td>\n",
       "      <td>Divorced</td>\n",
       "      <td>PhD</td>\n",
       "      <td>07-08-2021</td>\n",
       "      <td>25-08-2021</td>\n",
       "      <td>01-09-2021</td>\n",
       "      <td>09-02-2022</td>\n",
       "      <td>False</td>\n",
       "    </tr>\n",
       "  </tbody>\n",
       "</table>\n",
       "</div>"
      ],
      "text/plain": [
       "     customer_id     loan_id       loan_type  loan_amount  interest_rate  \\\n",
       "0  CUST-00004912  LN00004170        Car Loan        16795       0.051852   \n",
       "1  CUST-00004194  LN00002413   Personal Loan         1860       0.089296   \n",
       "2  CUST-00003610  LN00000024   Personal Loan        77820       0.070470   \n",
       "3  CUST-00001895  LN00001742        Car Loan        55886       0.062155   \n",
       "4  CUST-00003782  LN00003161       Home Loan         7265       0.070635   \n",
       "5  CUST-00002287  LN00003606        Car Loan        83386       0.077232   \n",
       "6  CUST-00004571  LN00003372        Car Loan        38194       0.070929   \n",
       "7  CUST-00002572  LN00002092        Car Loan        88498       0.046917   \n",
       "8  CUST-00001416  LN00001061       Home Loan        45131       0.093456   \n",
       "9  CUST-00000009  LN00003352  Education Loan        61263       0.099123   \n",
       "\n",
       "   loan_term employment_type income_level  credit_score  gender  \\\n",
       "0         15   Self-employed       Medium           833    Male   \n",
       "1         56       Full-time       Medium           776  Female   \n",
       "2         51       Full-time          Low           697    Male   \n",
       "3         30       Full-time          Low           795  Female   \n",
       "4         48       Part-time          Low           519  Female   \n",
       "5         13   Self-employed       Medium           472    Male   \n",
       "6         26       Part-time         High           689    Male   \n",
       "7         13       Part-time          Low           801  Female   \n",
       "8         22   Self-employed          Low           559    Male   \n",
       "9         56   Self-employed          Low           430    Male   \n",
       "\n",
       "  marital_status education_level application_date approval_date  \\\n",
       "0         Single          Master       05-04-2018    23-04-2018   \n",
       "1        Married        Bachelor       30-12-2022    31-12-2022   \n",
       "2       Divorced     High School       15-11-2019    18-11-2019   \n",
       "3        Married             PhD       25-08-2021    08-09-2021   \n",
       "4        Married     High School       02-09-2020    07-09-2020   \n",
       "5       Divorced             PhD       17-03-2021    17-03-2021   \n",
       "6        Married             PhD       04-09-2021    21-09-2021   \n",
       "7       Divorced     High School       17-04-2021    24-04-2021   \n",
       "8       Divorced          Master       16-10-2019    28-10-2019   \n",
       "9       Divorced             PhD       07-08-2021    25-08-2021   \n",
       "\n",
       "  disbursement_date    due_date  default_status  \n",
       "0        24-04-2018  14-08-2018           False  \n",
       "1        12-01-2023  05-04-2023           False  \n",
       "2        27-11-2019  24-02-2020           False  \n",
       "3        11-09-2021  25-02-2022           False  \n",
       "4        11-09-2020  29-12-2020           False  \n",
       "5        29-03-2021  25-06-2021           False  \n",
       "6        04-10-2021  18-12-2021           False  \n",
       "7        07-05-2021  24-10-2021           False  \n",
       "8        29-10-2019  28-02-2020           False  \n",
       "9        01-09-2021  09-02-2022           False  "
      ]
     },
     "execution_count": 3,
     "metadata": {},
     "output_type": "execute_result"
    }
   ],
   "source": [
    "# read csv file\n",
    "\n",
    "df = pd.read_csv(\"loan.csv\")\n",
    "\n",
    "df.head(10)"
   ]
  },
  {
   "cell_type": "code",
   "execution_count": 4,
   "id": "dbbe401e",
   "metadata": {},
   "outputs": [
    {
     "data": {
      "text/plain": [
       "Index(['customer_id', 'loan_id', 'loan_type', 'loan_amount', 'interest_rate',\n",
       "       'loan_term', 'employment_type', 'income_level', 'credit_score',\n",
       "       'gender', 'marital_status', 'education_level', 'application_date',\n",
       "       'approval_date', 'disbursement_date', 'due_date', 'default_status'],\n",
       "      dtype='object')"
      ]
     },
     "execution_count": 4,
     "metadata": {},
     "output_type": "execute_result"
    }
   ],
   "source": [
    "# show columns in dataframe\n",
    "\n",
    "df.columns"
   ]
  },
  {
   "cell_type": "code",
   "execution_count": 5,
   "id": "849b8889",
   "metadata": {},
   "outputs": [
    {
     "data": {
      "text/plain": [
       "(5000, 17)"
      ]
     },
     "execution_count": 5,
     "metadata": {},
     "output_type": "execute_result"
    }
   ],
   "source": [
    "# dimensions of the dataframe, (rows, columns)\n",
    "\n",
    "df.shape"
   ]
  },
  {
   "cell_type": "code",
   "execution_count": 6,
   "id": "7899d39d",
   "metadata": {},
   "outputs": [
    {
     "data": {
      "text/html": [
       "<div>\n",
       "<style scoped>\n",
       "    .dataframe tbody tr th:only-of-type {\n",
       "        vertical-align: middle;\n",
       "    }\n",
       "\n",
       "    .dataframe tbody tr th {\n",
       "        vertical-align: top;\n",
       "    }\n",
       "\n",
       "    .dataframe thead th {\n",
       "        text-align: right;\n",
       "    }\n",
       "</style>\n",
       "<table border=\"1\" class=\"dataframe\">\n",
       "  <thead>\n",
       "    <tr style=\"text-align: right;\">\n",
       "      <th></th>\n",
       "      <th>loan_type</th>\n",
       "      <th>loan_amount</th>\n",
       "      <th>interest_rate</th>\n",
       "      <th>loan_term</th>\n",
       "      <th>employment_type</th>\n",
       "      <th>income_level</th>\n",
       "      <th>credit_score</th>\n",
       "      <th>gender</th>\n",
       "      <th>marital_status</th>\n",
       "      <th>education_level</th>\n",
       "      <th>default_status</th>\n",
       "    </tr>\n",
       "  </thead>\n",
       "  <tbody>\n",
       "    <tr>\n",
       "      <th>0</th>\n",
       "      <td>Car Loan</td>\n",
       "      <td>16795</td>\n",
       "      <td>0.051852</td>\n",
       "      <td>15</td>\n",
       "      <td>Self-employed</td>\n",
       "      <td>Medium</td>\n",
       "      <td>833</td>\n",
       "      <td>Male</td>\n",
       "      <td>Single</td>\n",
       "      <td>Master</td>\n",
       "      <td>False</td>\n",
       "    </tr>\n",
       "    <tr>\n",
       "      <th>1</th>\n",
       "      <td>Personal Loan</td>\n",
       "      <td>1860</td>\n",
       "      <td>0.089296</td>\n",
       "      <td>56</td>\n",
       "      <td>Full-time</td>\n",
       "      <td>Medium</td>\n",
       "      <td>776</td>\n",
       "      <td>Female</td>\n",
       "      <td>Married</td>\n",
       "      <td>Bachelor</td>\n",
       "      <td>False</td>\n",
       "    </tr>\n",
       "    <tr>\n",
       "      <th>2</th>\n",
       "      <td>Personal Loan</td>\n",
       "      <td>77820</td>\n",
       "      <td>0.070470</td>\n",
       "      <td>51</td>\n",
       "      <td>Full-time</td>\n",
       "      <td>Low</td>\n",
       "      <td>697</td>\n",
       "      <td>Male</td>\n",
       "      <td>Divorced</td>\n",
       "      <td>High School</td>\n",
       "      <td>False</td>\n",
       "    </tr>\n",
       "    <tr>\n",
       "      <th>3</th>\n",
       "      <td>Car Loan</td>\n",
       "      <td>55886</td>\n",
       "      <td>0.062155</td>\n",
       "      <td>30</td>\n",
       "      <td>Full-time</td>\n",
       "      <td>Low</td>\n",
       "      <td>795</td>\n",
       "      <td>Female</td>\n",
       "      <td>Married</td>\n",
       "      <td>PhD</td>\n",
       "      <td>False</td>\n",
       "    </tr>\n",
       "    <tr>\n",
       "      <th>4</th>\n",
       "      <td>Home Loan</td>\n",
       "      <td>7265</td>\n",
       "      <td>0.070635</td>\n",
       "      <td>48</td>\n",
       "      <td>Part-time</td>\n",
       "      <td>Low</td>\n",
       "      <td>519</td>\n",
       "      <td>Female</td>\n",
       "      <td>Married</td>\n",
       "      <td>High School</td>\n",
       "      <td>False</td>\n",
       "    </tr>\n",
       "  </tbody>\n",
       "</table>\n",
       "</div>"
      ],
      "text/plain": [
       "       loan_type  loan_amount  interest_rate  loan_term employment_type  \\\n",
       "0       Car Loan        16795       0.051852         15   Self-employed   \n",
       "1  Personal Loan         1860       0.089296         56       Full-time   \n",
       "2  Personal Loan        77820       0.070470         51       Full-time   \n",
       "3       Car Loan        55886       0.062155         30       Full-time   \n",
       "4      Home Loan         7265       0.070635         48       Part-time   \n",
       "\n",
       "  income_level  credit_score  gender marital_status education_level  \\\n",
       "0       Medium           833    Male         Single          Master   \n",
       "1       Medium           776  Female        Married        Bachelor   \n",
       "2          Low           697    Male       Divorced     High School   \n",
       "3          Low           795  Female        Married             PhD   \n",
       "4          Low           519  Female        Married     High School   \n",
       "\n",
       "   default_status  \n",
       "0           False  \n",
       "1           False  \n",
       "2           False  \n",
       "3           False  \n",
       "4           False  "
      ]
     },
     "execution_count": 6,
     "metadata": {},
     "output_type": "execute_result"
    }
   ],
   "source": [
    "# remove unwanted columns\n",
    "# needed columns added into new dataframe\n",
    "\n",
    "drop_col = ['customer_id', 'loan_id', 'application_date', 'approval_date', 'disbursement_date', 'due_date']\n",
    "\n",
    "df1 = df.drop(drop_col, axis = 1)\n",
    "\n",
    "df1.head()"
   ]
  },
  {
   "cell_type": "code",
   "execution_count": 7,
   "id": "fcb1a850",
   "metadata": {},
   "outputs": [
    {
     "data": {
      "text/plain": [
       "(5000, 11)"
      ]
     },
     "execution_count": 7,
     "metadata": {},
     "output_type": "execute_result"
    }
   ],
   "source": [
    "# show columns in new dataframe\n",
    "\n",
    "df1.shape"
   ]
  },
  {
   "cell_type": "code",
   "execution_count": 8,
   "id": "7c756f35",
   "metadata": {},
   "outputs": [
    {
     "data": {
      "text/plain": [
       "Index(['loan_type', 'loan_amount', 'interest_rate', 'loan_term',\n",
       "       'employment_type', 'income_level', 'credit_score', 'gender',\n",
       "       'marital_status', 'education_level', 'default_status'],\n",
       "      dtype='object')"
      ]
     },
     "execution_count": 8,
     "metadata": {},
     "output_type": "execute_result"
    }
   ],
   "source": [
    "# dimensions of the new dataframe, (rows, columns)\n",
    "\n",
    "df1.columns"
   ]
  },
  {
   "cell_type": "code",
   "execution_count": 9,
   "id": "bd020396",
   "metadata": {},
   "outputs": [
    {
     "name": "stdout",
     "output_type": "stream",
     "text": [
      "<class 'pandas.core.frame.DataFrame'>\n",
      "RangeIndex: 5000 entries, 0 to 4999\n",
      "Data columns (total 11 columns):\n",
      " #   Column           Non-Null Count  Dtype  \n",
      "---  ------           --------------  -----  \n",
      " 0   loan_type        5000 non-null   object \n",
      " 1   loan_amount      5000 non-null   int64  \n",
      " 2   interest_rate    5000 non-null   float64\n",
      " 3   loan_term        5000 non-null   int64  \n",
      " 4   employment_type  5000 non-null   object \n",
      " 5   income_level     5000 non-null   object \n",
      " 6   credit_score     5000 non-null   int64  \n",
      " 7   gender           5000 non-null   object \n",
      " 8   marital_status   5000 non-null   object \n",
      " 9   education_level  5000 non-null   object \n",
      " 10  default_status   5000 non-null   bool   \n",
      "dtypes: bool(1), float64(1), int64(3), object(6)\n",
      "memory usage: 395.6+ KB\n"
     ]
    }
   ],
   "source": [
    "# information about the categories, rows, missing values and data type\n",
    "\n",
    "df1.info()"
   ]
  },
  {
   "cell_type": "code",
   "execution_count": 10,
   "id": "ce8e7de2",
   "metadata": {},
   "outputs": [
    {
     "data": {
      "text/html": [
       "<div>\n",
       "<style scoped>\n",
       "    .dataframe tbody tr th:only-of-type {\n",
       "        vertical-align: middle;\n",
       "    }\n",
       "\n",
       "    .dataframe tbody tr th {\n",
       "        vertical-align: top;\n",
       "    }\n",
       "\n",
       "    .dataframe thead th {\n",
       "        text-align: right;\n",
       "    }\n",
       "</style>\n",
       "<table border=\"1\" class=\"dataframe\">\n",
       "  <thead>\n",
       "    <tr style=\"text-align: right;\">\n",
       "      <th></th>\n",
       "      <th>loan_amount</th>\n",
       "      <th>interest_rate</th>\n",
       "      <th>loan_term</th>\n",
       "      <th>credit_score</th>\n",
       "    </tr>\n",
       "  </thead>\n",
       "  <tbody>\n",
       "    <tr>\n",
       "      <th>count</th>\n",
       "      <td>5000.000000</td>\n",
       "      <td>5000.000000</td>\n",
       "      <td>5000.000000</td>\n",
       "      <td>5000.000000</td>\n",
       "    </tr>\n",
       "    <tr>\n",
       "      <th>mean</th>\n",
       "      <td>49929.868000</td>\n",
       "      <td>0.079579</td>\n",
       "      <td>35.263000</td>\n",
       "      <td>573.206000</td>\n",
       "    </tr>\n",
       "    <tr>\n",
       "      <th>std</th>\n",
       "      <td>28721.249529</td>\n",
       "      <td>0.015230</td>\n",
       "      <td>13.792501</td>\n",
       "      <td>158.647522</td>\n",
       "    </tr>\n",
       "    <tr>\n",
       "      <th>min</th>\n",
       "      <td>1055.000000</td>\n",
       "      <td>0.031685</td>\n",
       "      <td>12.000000</td>\n",
       "      <td>300.000000</td>\n",
       "    </tr>\n",
       "    <tr>\n",
       "      <th>25%</th>\n",
       "      <td>24953.500000</td>\n",
       "      <td>0.069240</td>\n",
       "      <td>24.000000</td>\n",
       "      <td>435.000000</td>\n",
       "    </tr>\n",
       "    <tr>\n",
       "      <th>50%</th>\n",
       "      <td>49730.000000</td>\n",
       "      <td>0.079533</td>\n",
       "      <td>35.000000</td>\n",
       "      <td>571.000000</td>\n",
       "    </tr>\n",
       "    <tr>\n",
       "      <th>75%</th>\n",
       "      <td>75083.500000</td>\n",
       "      <td>0.089984</td>\n",
       "      <td>47.000000</td>\n",
       "      <td>712.000000</td>\n",
       "    </tr>\n",
       "    <tr>\n",
       "      <th>max</th>\n",
       "      <td>99989.000000</td>\n",
       "      <td>0.138894</td>\n",
       "      <td>59.000000</td>\n",
       "      <td>849.000000</td>\n",
       "    </tr>\n",
       "  </tbody>\n",
       "</table>\n",
       "</div>"
      ],
      "text/plain": [
       "        loan_amount  interest_rate    loan_term  credit_score\n",
       "count   5000.000000    5000.000000  5000.000000   5000.000000\n",
       "mean   49929.868000       0.079579    35.263000    573.206000\n",
       "std    28721.249529       0.015230    13.792501    158.647522\n",
       "min     1055.000000       0.031685    12.000000    300.000000\n",
       "25%    24953.500000       0.069240    24.000000    435.000000\n",
       "50%    49730.000000       0.079533    35.000000    571.000000\n",
       "75%    75083.500000       0.089984    47.000000    712.000000\n",
       "max    99989.000000       0.138894    59.000000    849.000000"
      ]
     },
     "execution_count": 10,
     "metadata": {},
     "output_type": "execute_result"
    }
   ],
   "source": [
    "# statistics for numerical columns/variables\n",
    "\n",
    "df1.describe()"
   ]
  },
  {
   "cell_type": "code",
   "execution_count": 11,
   "id": "ddcdbd99",
   "metadata": {},
   "outputs": [
    {
     "data": {
      "text/plain": [
       "loan_type          0\n",
       "loan_amount        0\n",
       "interest_rate      0\n",
       "loan_term          0\n",
       "employment_type    0\n",
       "income_level       0\n",
       "credit_score       0\n",
       "gender             0\n",
       "marital_status     0\n",
       "education_level    0\n",
       "default_status     0\n",
       "dtype: int64"
      ]
     },
     "execution_count": 11,
     "metadata": {},
     "output_type": "execute_result"
    }
   ],
   "source": [
    "# checking total empty values in each column/variable\n",
    "\n",
    "df1.isnull().sum()"
   ]
  },
  {
   "cell_type": "code",
   "execution_count": 12,
   "id": "5693a054",
   "metadata": {
    "scrolled": true
   },
   "outputs": [
    {
     "data": {
      "text/html": [
       "<div>\n",
       "<style scoped>\n",
       "    .dataframe tbody tr th:only-of-type {\n",
       "        vertical-align: middle;\n",
       "    }\n",
       "\n",
       "    .dataframe tbody tr th {\n",
       "        vertical-align: top;\n",
       "    }\n",
       "\n",
       "    .dataframe thead th {\n",
       "        text-align: right;\n",
       "    }\n",
       "</style>\n",
       "<table border=\"1\" class=\"dataframe\">\n",
       "  <thead>\n",
       "    <tr style=\"text-align: right;\">\n",
       "      <th></th>\n",
       "      <th>loan_amount</th>\n",
       "      <th>interest_rate</th>\n",
       "      <th>loan_term</th>\n",
       "      <th>credit_score</th>\n",
       "      <th>default_status</th>\n",
       "    </tr>\n",
       "  </thead>\n",
       "  <tbody>\n",
       "    <tr>\n",
       "      <th>loan_amount</th>\n",
       "      <td>1.000000</td>\n",
       "      <td>-0.017317</td>\n",
       "      <td>0.004763</td>\n",
       "      <td>-0.004780</td>\n",
       "      <td>-0.007309</td>\n",
       "    </tr>\n",
       "    <tr>\n",
       "      <th>interest_rate</th>\n",
       "      <td>-0.017317</td>\n",
       "      <td>1.000000</td>\n",
       "      <td>-0.014311</td>\n",
       "      <td>0.016064</td>\n",
       "      <td>0.028963</td>\n",
       "    </tr>\n",
       "    <tr>\n",
       "      <th>loan_term</th>\n",
       "      <td>0.004763</td>\n",
       "      <td>-0.014311</td>\n",
       "      <td>1.000000</td>\n",
       "      <td>-0.023735</td>\n",
       "      <td>-0.012358</td>\n",
       "    </tr>\n",
       "    <tr>\n",
       "      <th>credit_score</th>\n",
       "      <td>-0.004780</td>\n",
       "      <td>0.016064</td>\n",
       "      <td>-0.023735</td>\n",
       "      <td>1.000000</td>\n",
       "      <td>-0.007346</td>\n",
       "    </tr>\n",
       "    <tr>\n",
       "      <th>default_status</th>\n",
       "      <td>-0.007309</td>\n",
       "      <td>0.028963</td>\n",
       "      <td>-0.012358</td>\n",
       "      <td>-0.007346</td>\n",
       "      <td>1.000000</td>\n",
       "    </tr>\n",
       "  </tbody>\n",
       "</table>\n",
       "</div>"
      ],
      "text/plain": [
       "                loan_amount  interest_rate  loan_term  credit_score  \\\n",
       "loan_amount        1.000000      -0.017317   0.004763     -0.004780   \n",
       "interest_rate     -0.017317       1.000000  -0.014311      0.016064   \n",
       "loan_term          0.004763      -0.014311   1.000000     -0.023735   \n",
       "credit_score      -0.004780       0.016064  -0.023735      1.000000   \n",
       "default_status    -0.007309       0.028963  -0.012358     -0.007346   \n",
       "\n",
       "                default_status  \n",
       "loan_amount          -0.007309  \n",
       "interest_rate         0.028963  \n",
       "loan_term            -0.012358  \n",
       "credit_score         -0.007346  \n",
       "default_status        1.000000  "
      ]
     },
     "execution_count": 12,
     "metadata": {},
     "output_type": "execute_result"
    }
   ],
   "source": [
    "# correlation between numerical variables\n",
    "\n",
    "df1.corr()"
   ]
  },
  {
   "cell_type": "markdown",
   "id": "b3686320",
   "metadata": {},
   "source": [
    "# Categorical Variables"
   ]
  },
  {
   "cell_type": "code",
   "execution_count": 13,
   "id": "c41584c7",
   "metadata": {},
   "outputs": [
    {
     "data": {
      "text/plain": [
       "Personal Loan     1281\n",
       "Car Loan          1273\n",
       "Home Loan         1264\n",
       "Education Loan    1182\n",
       "Name: loan_type, dtype: int64"
      ]
     },
     "execution_count": 13,
     "metadata": {},
     "output_type": "execute_result"
    }
   ],
   "source": [
    "# total number of times for each category under the categorical variable \n",
    "\n",
    "df1['loan_type'].value_counts()"
   ]
  },
  {
   "cell_type": "code",
   "execution_count": 14,
   "id": "89d22001",
   "metadata": {},
   "outputs": [
    {
     "data": {
      "text/plain": [
       "Part-time        1672\n",
       "Self-employed    1669\n",
       "Full-time        1659\n",
       "Name: employment_type, dtype: int64"
      ]
     },
     "execution_count": 14,
     "metadata": {},
     "output_type": "execute_result"
    }
   ],
   "source": [
    "# total number of times for each category under the categorical variable \n",
    "\n",
    "df1['employment_type'].value_counts()"
   ]
  },
  {
   "cell_type": "code",
   "execution_count": 15,
   "id": "e36d6aad",
   "metadata": {},
   "outputs": [
    {
     "data": {
      "text/plain": [
       "Low       1713\n",
       "Medium    1672\n",
       "High      1615\n",
       "Name: income_level, dtype: int64"
      ]
     },
     "execution_count": 15,
     "metadata": {},
     "output_type": "execute_result"
    }
   ],
   "source": [
    "# total number of times for each category under the categorical variable \n",
    "\n",
    "df1['income_level'].value_counts()"
   ]
  },
  {
   "cell_type": "code",
   "execution_count": 16,
   "id": "849ae4f8",
   "metadata": {},
   "outputs": [
    {
     "data": {
      "text/plain": [
       "Male      2542\n",
       "Female    2458\n",
       "Name: gender, dtype: int64"
      ]
     },
     "execution_count": 16,
     "metadata": {},
     "output_type": "execute_result"
    }
   ],
   "source": [
    "# total number of times for each category under the categorical variable \n",
    "\n",
    "df1['gender'].value_counts()"
   ]
  },
  {
   "cell_type": "code",
   "execution_count": 17,
   "id": "6dce316f",
   "metadata": {},
   "outputs": [
    {
     "data": {
      "text/plain": [
       "Divorced    1682\n",
       "Married     1681\n",
       "Single      1637\n",
       "Name: marital_status, dtype: int64"
      ]
     },
     "execution_count": 17,
     "metadata": {},
     "output_type": "execute_result"
    }
   ],
   "source": [
    "# total number of times for each category under the categorical variable \n",
    "\n",
    "df1['marital_status'].value_counts()"
   ]
  },
  {
   "cell_type": "code",
   "execution_count": 18,
   "id": "1970ae76",
   "metadata": {},
   "outputs": [
    {
     "data": {
      "text/plain": [
       "PhD            1282\n",
       "Master         1254\n",
       "Bachelor       1254\n",
       "High School    1210\n",
       "Name: education_level, dtype: int64"
      ]
     },
     "execution_count": 18,
     "metadata": {},
     "output_type": "execute_result"
    }
   ],
   "source": [
    "# total number of times for each category under the categorical variable \n",
    "\n",
    "df1['education_level'].value_counts()"
   ]
  },
  {
   "cell_type": "code",
   "execution_count": 19,
   "id": "1ff2cc6a",
   "metadata": {},
   "outputs": [
    {
     "data": {
      "text/plain": [
       "False    4001\n",
       "True      999\n",
       "Name: default_status, dtype: int64"
      ]
     },
     "execution_count": 19,
     "metadata": {},
     "output_type": "execute_result"
    }
   ],
   "source": [
    "# total number of times for each category under the categorical variable \n",
    "\n",
    "df1['default_status'].value_counts()"
   ]
  },
  {
   "cell_type": "markdown",
   "id": "f4c96971",
   "metadata": {},
   "source": [
    "# Numerical Variables"
   ]
  },
  {
   "cell_type": "code",
   "execution_count": 20,
   "id": "d1fc2dad",
   "metadata": {},
   "outputs": [
    {
     "name": "stdout",
     "output_type": "stream",
     "text": [
      "Loan Amount skewness:  0.022557766982177468\n"
     ]
    }
   ],
   "source": [
    "# skewness for numerical variable\n",
    "# close to 0, variable is about symmetric\n",
    "\n",
    "skew_loan_amnt = df1.loan_amount.skew(axis = 0, skipna = True)\n",
    "print('Loan Amount skewness: ', skew_loan_amnt)"
   ]
  },
  {
   "cell_type": "code",
   "execution_count": 21,
   "id": "9928e381",
   "metadata": {},
   "outputs": [
    {
     "name": "stdout",
     "output_type": "stream",
     "text": [
      "Interest Rate skewness:  0.010144996396479804\n"
     ]
    }
   ],
   "source": [
    "# skewness for numerical variable\n",
    "# close to 0, variable is about symmetric\n",
    "\n",
    "skew_interest_rate = df1.interest_rate.skew(axis = 0, skipna = True)\n",
    "print('Interest Rate skewness: ', skew_interest_rate)"
   ]
  },
  {
   "cell_type": "code",
   "execution_count": 22,
   "id": "4652bf54",
   "metadata": {},
   "outputs": [
    {
     "name": "stdout",
     "output_type": "stream",
     "text": [
      "Loan Term skewness:  0.031273752868043604\n"
     ]
    }
   ],
   "source": [
    "# skewness for numerical variable\n",
    "# close to 0, variable is about symmetric\n",
    "\n",
    "skew_loan_term = df1.loan_term.skew(axis = 0, skipna = True)\n",
    "print('Loan Term skewness: ', skew_loan_term)"
   ]
  },
  {
   "cell_type": "code",
   "execution_count": 23,
   "id": "4d36cd58",
   "metadata": {},
   "outputs": [
    {
     "name": "stdout",
     "output_type": "stream",
     "text": [
      "Credit Score skewness:  0.010039817997711456\n"
     ]
    }
   ],
   "source": [
    "# skewness for numerical variable\n",
    "# close to 0, variable is about symmetric\n",
    "\n",
    "skew_credit_score = df1.credit_score.skew(axis = 0, skipna = True)\n",
    "print('Credit Score skewness: ', skew_credit_score)"
   ]
  },
  {
   "cell_type": "code",
   "execution_count": 24,
   "id": "11710062",
   "metadata": {},
   "outputs": [
    {
     "data": {
      "text/plain": [
       "<Axes: xlabel='loan_amount', ylabel='Density'>"
      ]
     },
     "execution_count": 24,
     "metadata": {},
     "output_type": "execute_result"
    },
    {
     "data": {
      "image/png": "[encoded data removed]",
      "text/plain": [
       "<Figure size 640x480 with 1 Axes>"
      ]
     },
     "metadata": {},
     "output_type": "display_data"
    }
   ],
   "source": [
    "# distribution plot for numerical variable\n",
    "# variable is about symmetric\n",
    "\n",
    "sns.distplot(df1['loan_amount'])"
   ]
  },
  {
   "cell_type": "code",
   "execution_count": 25,
   "id": "7858a27b",
   "metadata": {},
   "outputs": [
    {
     "data": {
      "text/plain": [
       "<Axes: xlabel='interest_rate', ylabel='Density'>"
      ]
     },
     "execution_count": 25,
     "metadata": {},
     "output_type": "execute_result"
    },
    {
     "data": {
      "image/png": "[encoded data removed]",
      "text/plain": [
       "<Figure size 640x480 with 1 Axes>"
      ]
     },
     "metadata": {},
     "output_type": "display_data"
    }
   ],
   "source": [
    "# distribution plot for numerical variable\n",
    "# variable is symmetric\n",
    "\n",
    "sns.distplot(df1['interest_rate'])"
   ]
  },
  {
   "cell_type": "code",
   "execution_count": 26,
   "id": "2b481943",
   "metadata": {},
   "outputs": [
    {
     "data": {
      "text/plain": [
       "<Axes: xlabel='loan_term', ylabel='Density'>"
      ]
     },
     "execution_count": 26,
     "metadata": {},
     "output_type": "execute_result"
    },
    {
     "data": {
      "image/png": "[encoded data removed]",
      "text/plain": [
       "<Figure size 640x480 with 1 Axes>"
      ]
     },
     "metadata": {},
     "output_type": "display_data"
    }
   ],
   "source": [
    "# distribution plot for numerical variable\n",
    "# variable is about symmetric\n",
    "\n",
    "sns.distplot(df1['loan_term'])"
   ]
  },
  {
   "cell_type": "code",
   "execution_count": 27,
   "id": "fde3dbb9",
   "metadata": {
    "scrolled": true
   },
   "outputs": [
    {
     "data": {
      "text/plain": [
       "<Axes: xlabel='credit_score', ylabel='Density'>"
      ]
     },
     "execution_count": 27,
     "metadata": {},
     "output_type": "execute_result"
    },
    {
     "data": {
      "image/png": "[encoded data removed]",
      "text/plain": [
       "<Figure size 640x480 with 1 Axes>"
      ]
     },
     "metadata": {},
     "output_type": "display_data"
    }
   ],
   "source": [
    "# distribution plot for numerical variable\n",
    "# variable is about symmetric\n",
    "\n",
    "sns.distplot(df1['credit_score'])"
   ]
  },
  {
   "cell_type": "markdown",
   "id": "99ef7cf1",
   "metadata": {},
   "source": [
    "# Exploratory Data Analysis (EDA)"
   ]
  },
  {
   "cell_type": "code",
   "execution_count": 28,
   "id": "87c46e46",
   "metadata": {},
   "outputs": [
    {
     "data": {
      "image/png": "[encoded data removed]",
      "text/plain": [
       "<Figure size 640x480 with 1 Axes>"
      ]
     },
     "metadata": {},
     "output_type": "display_data"
    }
   ],
   "source": [
    "# bar graph for categories of categorical variable\n",
    "# shows the total number for each category under the categorical variable\n",
    "\n",
    "sns.set_theme(style=\"darkgrid\")\n",
    "sns.countplot(y=\"loan_type\", data=df1, palette=\"flare\")\n",
    "plt.ylabel('Loan Type')\n",
    "plt.xlabel('Total')\n",
    "plt.show()"
   ]
  },
  {
   "cell_type": "code",
   "execution_count": 29,
   "id": "1a6c590e",
   "metadata": {},
   "outputs": [
    {
     "data": {
      "image/png": "[encoded data removed]",
      "text/plain": [
       "<Figure size 640x480 with 1 Axes>"
      ]
     },
     "metadata": {},
     "output_type": "display_data"
    }
   ],
   "source": [
    "# bar graph for categories of categorical variable\n",
    "# shows the total number for each category under the categorical variable\n",
    "\n",
    "sns.set_theme(style=\"darkgrid\")\n",
    "sns.countplot(y=\"employment_type\", data=df1, palette=\"flare\")\n",
    "plt.ylabel('Employment Type')\n",
    "plt.xlabel('Total')\n",
    "plt.show()"
   ]
  },
  {
   "cell_type": "code",
   "execution_count": 30,
   "id": "2eb7adb1",
   "metadata": {},
   "outputs": [
    {
     "data": {
      "image/png": "[encoded data removed]",
      "text/plain": [
       "<Figure size 640x480 with 1 Axes>"
      ]
     },
     "metadata": {},
     "output_type": "display_data"
    }
   ],
   "source": [
    "# bar graph for categories of categorical variable\n",
    "# shows the total number for each category under the categorical variable\n",
    "\n",
    "sns.set_theme(style=\"darkgrid\")\n",
    "sns.countplot(y=\"income_level\", data=df1, palette=\"flare\")\n",
    "plt.ylabel('Income Level')\n",
    "plt.xlabel('Total')\n",
    "plt.show()"
   ]
  },
  {
   "cell_type": "code",
   "execution_count": 31,
   "id": "cf99e28d",
   "metadata": {},
   "outputs": [
    {
     "data": {
      "image/png": "[encoded data removed]",
      "text/plain": [
       "<Figure size 640x480 with 1 Axes>"
      ]
     },
     "metadata": {},
     "output_type": "display_data"
    }
   ],
   "source": [
    "# bar graph for categories of categorical variable\n",
    "# shows the total number for each category under the categorical variable\n",
    "\n",
    "sns.set_theme(style=\"darkgrid\")\n",
    "sns.countplot(y=\"education_level\", data=df1, palette=\"flare\")\n",
    "plt.ylabel('Education Level')\n",
    "plt.xlabel('Total')\n",
    "plt.show()"
   ]
  },
  {
   "cell_type": "code",
   "execution_count": 32,
   "id": "79efbc88",
   "metadata": {
    "scrolled": true
   },
   "outputs": [
    {
     "data": {
      "image/png": "[encoded data removed]",
      "text/plain": [
       "<Figure size 1200x500 with 1 Axes>"
      ]
     },
     "metadata": {},
     "output_type": "display_data"
    }
   ],
   "source": [
    "# column graph for gender based on income level\n",
    "\n",
    "pd.crosstab(df1.gender,df1.income_level).plot(kind=\"bar\",figsize=(12,5),color=['#003f5c','#ffa600','#58508d'])\n",
    "plt.title('Gender distribution based on Income Level')\n",
    "plt.xlabel('Gender')\n",
    "plt.xticks(rotation=0)\n",
    "plt.ylabel('Frequency')\n",
    "plt.show()"
   ]
  },
  {
   "cell_type": "code",
   "execution_count": 33,
   "id": "2ca998a4",
   "metadata": {
    "scrolled": true
   },
   "outputs": [
    {
     "data": {
      "image/png": "[encoded data removed]",
      "text/plain": [
       "<Figure size 1200x500 with 1 Axes>"
      ]
     },
     "metadata": {},
     "output_type": "display_data"
    }
   ],
   "source": [
    "# column graph for default status(target variable) based on income level\n",
    "\n",
    "pd.crosstab(df1.default_status,df1.income_level).plot(kind=\"bar\",figsize=(12,5),color=['#003f5c','#ffa600','#58508d'])\n",
    "plt.title('Default Status based on Income Level')\n",
    "plt.xlabel('Default Status')\n",
    "plt.legend(title= 'income level')\n",
    "plt.xticks(rotation=0)\n",
    "plt.ylabel('Frequency')\n",
    "plt.show()"
   ]
  },
  {
   "cell_type": "code",
   "execution_count": 34,
   "id": "a9997bb3",
   "metadata": {
    "scrolled": true
   },
   "outputs": [
    {
     "data": {
      "image/png": "[encoded data removed]",
      "text/plain": [
       "<Figure size 1200x500 with 1 Axes>"
      ]
     },
     "metadata": {},
     "output_type": "display_data"
    }
   ],
   "source": [
    "# column graph for default status based on employment type\n",
    "\n",
    "pd.crosstab(df1.default_status,df1.employment_type).plot(kind=\"bar\",figsize=(12,5),color=['#003f5c','#ffa600','#58508d'])\n",
    "plt.title('Default Status based on Employment Type')\n",
    "plt.xlabel('Default Status')\n",
    "plt.xticks(rotation=0)\n",
    "plt.ylabel('Frequency')\n",
    "plt.show()"
   ]
  },
  {
   "cell_type": "code",
   "execution_count": 35,
   "id": "b37533e3",
   "metadata": {},
   "outputs": [
    {
     "data": {
      "image/png": "[encoded data removed]",
      "text/plain": [
       "<Figure size 1200x500 with 1 Axes>"
      ]
     },
     "metadata": {},
     "output_type": "display_data"
    }
   ],
   "source": [
    "# column graph for default status based on education type\n",
    "\n",
    "pd.crosstab(df1.default_status,df1.education_level).plot(kind=\"bar\",figsize=(12,5), color=['#003f5c','#ffa600','#58508d','#bc5090'])\n",
    "plt.title('Default Status based on Education Level')\n",
    "plt.xlabel('Default Status')\n",
    "plt.xticks(rotation=0)\n",
    "plt.ylabel('Frequency')\n",
    "plt.show()"
   ]
  },
  {
   "cell_type": "code",
   "execution_count": 36,
   "id": "877f6d2c",
   "metadata": {},
   "outputs": [
    {
     "data": {
      "image/png": "[encoded data removed]",
      "text/plain": [
       "<Figure size 1200x500 with 1 Axes>"
      ]
     },
     "metadata": {},
     "output_type": "display_data"
    }
   ],
   "source": [
    "# column graph for default status based on marital status\n",
    "\n",
    "pd.crosstab(df1.default_status,df1.marital_status).plot(kind=\"bar\",figsize=(12,5), color=['#003f5c','#ffa600','#58508d'])\n",
    "plt.title('Default Status based on Marital Status')\n",
    "plt.xlabel('Default Status')\n",
    "plt.xticks(rotation=0)\n",
    "plt.ylabel('Frequency')\n",
    "plt.show()"
   ]
  },
  {
   "cell_type": "code",
   "execution_count": 37,
   "id": "0c4c5c1d",
   "metadata": {},
   "outputs": [
    {
     "data": {
      "image/png": "[encoded data removed]",
      "text/plain": [
       "<Figure size 640x480 with 1 Axes>"
      ]
     },
     "metadata": {},
     "output_type": "display_data"
    }
   ],
   "source": [
    "# boxplot for interest rate vs default status\n",
    "\n",
    "sns.boxplot(x = 'default_status', y = 'interest_rate', data = df1)\n",
    "plt.xlabel('Default Status')\n",
    "plt.ylabel('Interest Rate')\n",
    "plt.title('Interest Rate vs Default Status')\n",
    "plt.show()"
   ]
  },
  {
   "cell_type": "code",
   "execution_count": 38,
   "id": "30eb6fd4",
   "metadata": {},
   "outputs": [
    {
     "data": {
      "image/png": "[encoded data removed]",
      "text/plain": [
       "<Figure size 640x480 with 1 Axes>"
      ]
     },
     "metadata": {},
     "output_type": "display_data"
    }
   ],
   "source": [
    "# boxplot for credit score vs default status\n",
    "\n",
    "sns.boxplot(x = 'default_status', y = 'credit_score', data = df1)\n",
    "plt.xlabel('Default Status')\n",
    "plt.ylabel('Credit Score')\n",
    "plt.title('Credit Score vs Default Status')\n",
    "plt.show()"
   ]
  },
  {
   "cell_type": "markdown",
   "id": "ede8d906",
   "metadata": {},
   "source": [
    "# Data Preparation"
   ]
  },
  {
   "cell_type": "code",
   "execution_count": 39,
   "id": "0509dd5b",
   "metadata": {},
   "outputs": [
    {
     "data": {
      "text/html": [
       "<div>\n",
       "<style scoped>\n",
       "    .dataframe tbody tr th:only-of-type {\n",
       "        vertical-align: middle;\n",
       "    }\n",
       "\n",
       "    .dataframe tbody tr th {\n",
       "        vertical-align: top;\n",
       "    }\n",
       "\n",
       "    .dataframe thead th {\n",
       "        text-align: right;\n",
       "    }\n",
       "</style>\n",
       "<table border=\"1\" class=\"dataframe\">\n",
       "  <thead>\n",
       "    <tr style=\"text-align: right;\">\n",
       "      <th></th>\n",
       "      <th>loan_type</th>\n",
       "      <th>loan_amount</th>\n",
       "      <th>interest_rate</th>\n",
       "      <th>loan_term</th>\n",
       "      <th>employment_type</th>\n",
       "      <th>income_level</th>\n",
       "      <th>credit_score</th>\n",
       "      <th>gender</th>\n",
       "      <th>marital_status</th>\n",
       "      <th>education_level</th>\n",
       "      <th>default_status</th>\n",
       "    </tr>\n",
       "  </thead>\n",
       "  <tbody>\n",
       "    <tr>\n",
       "      <th>0</th>\n",
       "      <td>Car Loan</td>\n",
       "      <td>16795</td>\n",
       "      <td>0.051852</td>\n",
       "      <td>15</td>\n",
       "      <td>Self-employed</td>\n",
       "      <td>Medium</td>\n",
       "      <td>833</td>\n",
       "      <td>Male</td>\n",
       "      <td>Single</td>\n",
       "      <td>Master</td>\n",
       "      <td>False</td>\n",
       "    </tr>\n",
       "    <tr>\n",
       "      <th>1</th>\n",
       "      <td>Personal Loan</td>\n",
       "      <td>1860</td>\n",
       "      <td>0.089296</td>\n",
       "      <td>56</td>\n",
       "      <td>Full-time</td>\n",
       "      <td>Medium</td>\n",
       "      <td>776</td>\n",
       "      <td>Female</td>\n",
       "      <td>Married</td>\n",
       "      <td>Bachelor</td>\n",
       "      <td>False</td>\n",
       "    </tr>\n",
       "    <tr>\n",
       "      <th>2</th>\n",
       "      <td>Personal Loan</td>\n",
       "      <td>77820</td>\n",
       "      <td>0.070470</td>\n",
       "      <td>51</td>\n",
       "      <td>Full-time</td>\n",
       "      <td>Low</td>\n",
       "      <td>697</td>\n",
       "      <td>Male</td>\n",
       "      <td>Divorced</td>\n",
       "      <td>High School</td>\n",
       "      <td>False</td>\n",
       "    </tr>\n",
       "    <tr>\n",
       "      <th>3</th>\n",
       "      <td>Car Loan</td>\n",
       "      <td>55886</td>\n",
       "      <td>0.062155</td>\n",
       "      <td>30</td>\n",
       "      <td>Full-time</td>\n",
       "      <td>Low</td>\n",
       "      <td>795</td>\n",
       "      <td>Female</td>\n",
       "      <td>Married</td>\n",
       "      <td>PhD</td>\n",
       "      <td>False</td>\n",
       "    </tr>\n",
       "    <tr>\n",
       "      <th>4</th>\n",
       "      <td>Home Loan</td>\n",
       "      <td>7265</td>\n",
       "      <td>0.070635</td>\n",
       "      <td>48</td>\n",
       "      <td>Part-time</td>\n",
       "      <td>Low</td>\n",
       "      <td>519</td>\n",
       "      <td>Female</td>\n",
       "      <td>Married</td>\n",
       "      <td>High School</td>\n",
       "      <td>False</td>\n",
       "    </tr>\n",
       "  </tbody>\n",
       "</table>\n",
       "</div>"
      ],
      "text/plain": [
       "       loan_type  loan_amount  interest_rate  loan_term employment_type  \\\n",
       "0       Car Loan        16795       0.051852         15   Self-employed   \n",
       "1  Personal Loan         1860       0.089296         56       Full-time   \n",
       "2  Personal Loan        77820       0.070470         51       Full-time   \n",
       "3       Car Loan        55886       0.062155         30       Full-time   \n",
       "4      Home Loan         7265       0.070635         48       Part-time   \n",
       "\n",
       "  income_level  credit_score  gender marital_status education_level  \\\n",
       "0       Medium           833    Male         Single          Master   \n",
       "1       Medium           776  Female        Married        Bachelor   \n",
       "2          Low           697    Male       Divorced     High School   \n",
       "3          Low           795  Female        Married             PhD   \n",
       "4          Low           519  Female        Married     High School   \n",
       "\n",
       "   default_status  \n",
       "0           False  \n",
       "1           False  \n",
       "2           False  \n",
       "3           False  \n",
       "4           False  "
      ]
     },
     "execution_count": 39,
     "metadata": {},
     "output_type": "execute_result"
    }
   ],
   "source": [
    "# view first few rows\n",
    "\n",
    "df1.head()"
   ]
  },
  {
   "cell_type": "code",
   "execution_count": 40,
   "id": "bdbe13df",
   "metadata": {
    "scrolled": false
   },
   "outputs": [
    {
     "data": {
      "text/html": [
       "<div>\n",
       "<style scoped>\n",
       "    .dataframe tbody tr th:only-of-type {\n",
       "        vertical-align: middle;\n",
       "    }\n",
       "\n",
       "    .dataframe tbody tr th {\n",
       "        vertical-align: top;\n",
       "    }\n",
       "\n",
       "    .dataframe thead th {\n",
       "        text-align: right;\n",
       "    }\n",
       "</style>\n",
       "<table border=\"1\" class=\"dataframe\">\n",
       "  <thead>\n",
       "    <tr style=\"text-align: right;\">\n",
       "      <th></th>\n",
       "      <th>loan_type</th>\n",
       "      <th>loan_amount</th>\n",
       "      <th>interest_rate</th>\n",
       "      <th>loan_term</th>\n",
       "      <th>employment_type</th>\n",
       "      <th>income_level</th>\n",
       "      <th>credit_score</th>\n",
       "      <th>gender</th>\n",
       "      <th>marital_status</th>\n",
       "      <th>education_level</th>\n",
       "      <th>default_status</th>\n",
       "    </tr>\n",
       "  </thead>\n",
       "  <tbody>\n",
       "    <tr>\n",
       "      <th>0</th>\n",
       "      <td>1</td>\n",
       "      <td>16795</td>\n",
       "      <td>0.051852</td>\n",
       "      <td>15</td>\n",
       "      <td>Self-employed</td>\n",
       "      <td>Medium</td>\n",
       "      <td>833</td>\n",
       "      <td>Male</td>\n",
       "      <td>Single</td>\n",
       "      <td>Master</td>\n",
       "      <td>False</td>\n",
       "    </tr>\n",
       "    <tr>\n",
       "      <th>1</th>\n",
       "      <td>2</td>\n",
       "      <td>1860</td>\n",
       "      <td>0.089296</td>\n",
       "      <td>56</td>\n",
       "      <td>Full-time</td>\n",
       "      <td>Medium</td>\n",
       "      <td>776</td>\n",
       "      <td>Female</td>\n",
       "      <td>Married</td>\n",
       "      <td>Bachelor</td>\n",
       "      <td>False</td>\n",
       "    </tr>\n",
       "    <tr>\n",
       "      <th>2</th>\n",
       "      <td>2</td>\n",
       "      <td>77820</td>\n",
       "      <td>0.070470</td>\n",
       "      <td>51</td>\n",
       "      <td>Full-time</td>\n",
       "      <td>Low</td>\n",
       "      <td>697</td>\n",
       "      <td>Male</td>\n",
       "      <td>Divorced</td>\n",
       "      <td>High School</td>\n",
       "      <td>False</td>\n",
       "    </tr>\n",
       "    <tr>\n",
       "      <th>3</th>\n",
       "      <td>1</td>\n",
       "      <td>55886</td>\n",
       "      <td>0.062155</td>\n",
       "      <td>30</td>\n",
       "      <td>Full-time</td>\n",
       "      <td>Low</td>\n",
       "      <td>795</td>\n",
       "      <td>Female</td>\n",
       "      <td>Married</td>\n",
       "      <td>PhD</td>\n",
       "      <td>False</td>\n",
       "    </tr>\n",
       "    <tr>\n",
       "      <th>4</th>\n",
       "      <td>3</td>\n",
       "      <td>7265</td>\n",
       "      <td>0.070635</td>\n",
       "      <td>48</td>\n",
       "      <td>Part-time</td>\n",
       "      <td>Low</td>\n",
       "      <td>519</td>\n",
       "      <td>Female</td>\n",
       "      <td>Married</td>\n",
       "      <td>High School</td>\n",
       "      <td>False</td>\n",
       "    </tr>\n",
       "  </tbody>\n",
       "</table>\n",
       "</div>"
      ],
      "text/plain": [
       "   loan_type  loan_amount  interest_rate  loan_term employment_type  \\\n",
       "0          1        16795       0.051852         15   Self-employed   \n",
       "1          2         1860       0.089296         56       Full-time   \n",
       "2          2        77820       0.070470         51       Full-time   \n",
       "3          1        55886       0.062155         30       Full-time   \n",
       "4          3         7265       0.070635         48       Part-time   \n",
       "\n",
       "  income_level  credit_score  gender marital_status education_level  \\\n",
       "0       Medium           833    Male         Single          Master   \n",
       "1       Medium           776  Female        Married        Bachelor   \n",
       "2          Low           697    Male       Divorced     High School   \n",
       "3          Low           795  Female        Married             PhD   \n",
       "4          Low           519  Female        Married     High School   \n",
       "\n",
       "   default_status  \n",
       "0           False  \n",
       "1           False  \n",
       "2           False  \n",
       "3           False  \n",
       "4           False  "
      ]
     },
     "execution_count": 40,
     "metadata": {},
     "output_type": "execute_result"
    }
   ],
   "source": [
    "# Converting text to integer\n",
    "# loan_type column: \n",
    "# Car Loan - 1\n",
    "# Personal Loan - 2\n",
    "# Home Loan - 3\n",
    "# Education Loan - 4\n",
    "\n",
    "df1['loan_type'] = df1['loan_type'].map({ \"Car Loan\": 1, \"Personal Loan\": 2, \n",
    "                                       \"Home Loan\": 3, \"Education Loan\": 4})\n",
    "\n",
    "df1.head()"
   ]
  },
  {
   "cell_type": "code",
   "execution_count": 41,
   "id": "f03a5dcf",
   "metadata": {},
   "outputs": [
    {
     "data": {
      "text/html": [
       "<div>\n",
       "<style scoped>\n",
       "    .dataframe tbody tr th:only-of-type {\n",
       "        vertical-align: middle;\n",
       "    }\n",
       "\n",
       "    .dataframe tbody tr th {\n",
       "        vertical-align: top;\n",
       "    }\n",
       "\n",
       "    .dataframe thead th {\n",
       "        text-align: right;\n",
       "    }\n",
       "</style>\n",
       "<table border=\"1\" class=\"dataframe\">\n",
       "  <thead>\n",
       "    <tr style=\"text-align: right;\">\n",
       "      <th></th>\n",
       "      <th>loan_type</th>\n",
       "      <th>loan_amount</th>\n",
       "      <th>interest_rate</th>\n",
       "      <th>loan_term</th>\n",
       "      <th>employment_type</th>\n",
       "      <th>income_level</th>\n",
       "      <th>credit_score</th>\n",
       "      <th>gender</th>\n",
       "      <th>marital_status</th>\n",
       "      <th>education_level</th>\n",
       "      <th>default_status</th>\n",
       "    </tr>\n",
       "  </thead>\n",
       "  <tbody>\n",
       "    <tr>\n",
       "      <th>0</th>\n",
       "      <td>1</td>\n",
       "      <td>16795</td>\n",
       "      <td>0.051852</td>\n",
       "      <td>15</td>\n",
       "      <td>Self-employed</td>\n",
       "      <td>Medium</td>\n",
       "      <td>833</td>\n",
       "      <td>Male</td>\n",
       "      <td>1</td>\n",
       "      <td>Master</td>\n",
       "      <td>False</td>\n",
       "    </tr>\n",
       "    <tr>\n",
       "      <th>1</th>\n",
       "      <td>2</td>\n",
       "      <td>1860</td>\n",
       "      <td>0.089296</td>\n",
       "      <td>56</td>\n",
       "      <td>Full-time</td>\n",
       "      <td>Medium</td>\n",
       "      <td>776</td>\n",
       "      <td>Female</td>\n",
       "      <td>2</td>\n",
       "      <td>Bachelor</td>\n",
       "      <td>False</td>\n",
       "    </tr>\n",
       "    <tr>\n",
       "      <th>2</th>\n",
       "      <td>2</td>\n",
       "      <td>77820</td>\n",
       "      <td>0.070470</td>\n",
       "      <td>51</td>\n",
       "      <td>Full-time</td>\n",
       "      <td>Low</td>\n",
       "      <td>697</td>\n",
       "      <td>Male</td>\n",
       "      <td>3</td>\n",
       "      <td>High School</td>\n",
       "      <td>False</td>\n",
       "    </tr>\n",
       "    <tr>\n",
       "      <th>3</th>\n",
       "      <td>1</td>\n",
       "      <td>55886</td>\n",
       "      <td>0.062155</td>\n",
       "      <td>30</td>\n",
       "      <td>Full-time</td>\n",
       "      <td>Low</td>\n",
       "      <td>795</td>\n",
       "      <td>Female</td>\n",
       "      <td>2</td>\n",
       "      <td>PhD</td>\n",
       "      <td>False</td>\n",
       "    </tr>\n",
       "    <tr>\n",
       "      <th>4</th>\n",
       "      <td>3</td>\n",
       "      <td>7265</td>\n",
       "      <td>0.070635</td>\n",
       "      <td>48</td>\n",
       "      <td>Part-time</td>\n",
       "      <td>Low</td>\n",
       "      <td>519</td>\n",
       "      <td>Female</td>\n",
       "      <td>2</td>\n",
       "      <td>High School</td>\n",
       "      <td>False</td>\n",
       "    </tr>\n",
       "  </tbody>\n",
       "</table>\n",
       "</div>"
      ],
      "text/plain": [
       "   loan_type  loan_amount  interest_rate  loan_term employment_type  \\\n",
       "0          1        16795       0.051852         15   Self-employed   \n",
       "1          2         1860       0.089296         56       Full-time   \n",
       "2          2        77820       0.070470         51       Full-time   \n",
       "3          1        55886       0.062155         30       Full-time   \n",
       "4          3         7265       0.070635         48       Part-time   \n",
       "\n",
       "  income_level  credit_score  gender  marital_status education_level  \\\n",
       "0       Medium           833    Male               1          Master   \n",
       "1       Medium           776  Female               2        Bachelor   \n",
       "2          Low           697    Male               3     High School   \n",
       "3          Low           795  Female               2             PhD   \n",
       "4          Low           519  Female               2     High School   \n",
       "\n",
       "   default_status  \n",
       "0           False  \n",
       "1           False  \n",
       "2           False  \n",
       "3           False  \n",
       "4           False  "
      ]
     },
     "execution_count": 41,
     "metadata": {},
     "output_type": "execute_result"
    }
   ],
   "source": [
    "# Converting text to integer\n",
    "# marital_status column: \n",
    "# Single - 1\n",
    "# Married - 2\n",
    "# Divorced - 3\n",
    "\n",
    "df1['marital_status'] = df1['marital_status'].map({ \"Single\": 1, \"Married\": 2, \"Divorced\": 3})\n",
    "\n",
    "df1.head()"
   ]
  },
  {
   "cell_type": "code",
   "execution_count": 42,
   "id": "50392eba",
   "metadata": {},
   "outputs": [
    {
     "data": {
      "text/html": [
       "<div>\n",
       "<style scoped>\n",
       "    .dataframe tbody tr th:only-of-type {\n",
       "        vertical-align: middle;\n",
       "    }\n",
       "\n",
       "    .dataframe tbody tr th {\n",
       "        vertical-align: top;\n",
       "    }\n",
       "\n",
       "    .dataframe thead th {\n",
       "        text-align: right;\n",
       "    }\n",
       "</style>\n",
       "<table border=\"1\" class=\"dataframe\">\n",
       "  <thead>\n",
       "    <tr style=\"text-align: right;\">\n",
       "      <th></th>\n",
       "      <th>loan_type</th>\n",
       "      <th>loan_amount</th>\n",
       "      <th>interest_rate</th>\n",
       "      <th>loan_term</th>\n",
       "      <th>employment_type</th>\n",
       "      <th>income_level</th>\n",
       "      <th>credit_score</th>\n",
       "      <th>gender</th>\n",
       "      <th>marital_status</th>\n",
       "      <th>education_level</th>\n",
       "      <th>default_status</th>\n",
       "    </tr>\n",
       "  </thead>\n",
       "  <tbody>\n",
       "    <tr>\n",
       "      <th>0</th>\n",
       "      <td>1</td>\n",
       "      <td>16795</td>\n",
       "      <td>0.051852</td>\n",
       "      <td>15</td>\n",
       "      <td>Self-employed</td>\n",
       "      <td>Medium</td>\n",
       "      <td>833</td>\n",
       "      <td>1</td>\n",
       "      <td>1</td>\n",
       "      <td>Master</td>\n",
       "      <td>False</td>\n",
       "    </tr>\n",
       "    <tr>\n",
       "      <th>1</th>\n",
       "      <td>2</td>\n",
       "      <td>1860</td>\n",
       "      <td>0.089296</td>\n",
       "      <td>56</td>\n",
       "      <td>Full-time</td>\n",
       "      <td>Medium</td>\n",
       "      <td>776</td>\n",
       "      <td>2</td>\n",
       "      <td>2</td>\n",
       "      <td>Bachelor</td>\n",
       "      <td>False</td>\n",
       "    </tr>\n",
       "    <tr>\n",
       "      <th>2</th>\n",
       "      <td>2</td>\n",
       "      <td>77820</td>\n",
       "      <td>0.070470</td>\n",
       "      <td>51</td>\n",
       "      <td>Full-time</td>\n",
       "      <td>Low</td>\n",
       "      <td>697</td>\n",
       "      <td>1</td>\n",
       "      <td>3</td>\n",
       "      <td>High School</td>\n",
       "      <td>False</td>\n",
       "    </tr>\n",
       "    <tr>\n",
       "      <th>3</th>\n",
       "      <td>1</td>\n",
       "      <td>55886</td>\n",
       "      <td>0.062155</td>\n",
       "      <td>30</td>\n",
       "      <td>Full-time</td>\n",
       "      <td>Low</td>\n",
       "      <td>795</td>\n",
       "      <td>2</td>\n",
       "      <td>2</td>\n",
       "      <td>PhD</td>\n",
       "      <td>False</td>\n",
       "    </tr>\n",
       "    <tr>\n",
       "      <th>4</th>\n",
       "      <td>3</td>\n",
       "      <td>7265</td>\n",
       "      <td>0.070635</td>\n",
       "      <td>48</td>\n",
       "      <td>Part-time</td>\n",
       "      <td>Low</td>\n",
       "      <td>519</td>\n",
       "      <td>2</td>\n",
       "      <td>2</td>\n",
       "      <td>High School</td>\n",
       "      <td>False</td>\n",
       "    </tr>\n",
       "  </tbody>\n",
       "</table>\n",
       "</div>"
      ],
      "text/plain": [
       "   loan_type  loan_amount  interest_rate  loan_term employment_type  \\\n",
       "0          1        16795       0.051852         15   Self-employed   \n",
       "1          2         1860       0.089296         56       Full-time   \n",
       "2          2        77820       0.070470         51       Full-time   \n",
       "3          1        55886       0.062155         30       Full-time   \n",
       "4          3         7265       0.070635         48       Part-time   \n",
       "\n",
       "  income_level  credit_score  gender  marital_status education_level  \\\n",
       "0       Medium           833       1               1          Master   \n",
       "1       Medium           776       2               2        Bachelor   \n",
       "2          Low           697       1               3     High School   \n",
       "3          Low           795       2               2             PhD   \n",
       "4          Low           519       2               2     High School   \n",
       "\n",
       "   default_status  \n",
       "0           False  \n",
       "1           False  \n",
       "2           False  \n",
       "3           False  \n",
       "4           False  "
      ]
     },
     "execution_count": 42,
     "metadata": {},
     "output_type": "execute_result"
    }
   ],
   "source": [
    "# Converting text to integer\n",
    "# gender column: \n",
    "# Male - 1\n",
    "# Female - 2\n",
    "\n",
    "df1['gender'] = df1['gender'].map({'Male': 1, 'Female': 2})\n",
    "\n",
    "df1.head()"
   ]
  },
  {
   "cell_type": "code",
   "execution_count": 43,
   "id": "0c82a3cc",
   "metadata": {},
   "outputs": [
    {
     "data": {
      "text/html": [
       "<div>\n",
       "<style scoped>\n",
       "    .dataframe tbody tr th:only-of-type {\n",
       "        vertical-align: middle;\n",
       "    }\n",
       "\n",
       "    .dataframe tbody tr th {\n",
       "        vertical-align: top;\n",
       "    }\n",
       "\n",
       "    .dataframe thead th {\n",
       "        text-align: right;\n",
       "    }\n",
       "</style>\n",
       "<table border=\"1\" class=\"dataframe\">\n",
       "  <thead>\n",
       "    <tr style=\"text-align: right;\">\n",
       "      <th></th>\n",
       "      <th>loan_type</th>\n",
       "      <th>loan_amount</th>\n",
       "      <th>interest_rate</th>\n",
       "      <th>loan_term</th>\n",
       "      <th>employment_type</th>\n",
       "      <th>income_level</th>\n",
       "      <th>credit_score</th>\n",
       "      <th>gender</th>\n",
       "      <th>marital_status</th>\n",
       "      <th>education_level</th>\n",
       "      <th>default_status</th>\n",
       "    </tr>\n",
       "  </thead>\n",
       "  <tbody>\n",
       "    <tr>\n",
       "      <th>0</th>\n",
       "      <td>1</td>\n",
       "      <td>16795</td>\n",
       "      <td>0.051852</td>\n",
       "      <td>15</td>\n",
       "      <td>Self-employed</td>\n",
       "      <td>Medium</td>\n",
       "      <td>833</td>\n",
       "      <td>1</td>\n",
       "      <td>1</td>\n",
       "      <td>3</td>\n",
       "      <td>False</td>\n",
       "    </tr>\n",
       "    <tr>\n",
       "      <th>1</th>\n",
       "      <td>2</td>\n",
       "      <td>1860</td>\n",
       "      <td>0.089296</td>\n",
       "      <td>56</td>\n",
       "      <td>Full-time</td>\n",
       "      <td>Medium</td>\n",
       "      <td>776</td>\n",
       "      <td>2</td>\n",
       "      <td>2</td>\n",
       "      <td>2</td>\n",
       "      <td>False</td>\n",
       "    </tr>\n",
       "    <tr>\n",
       "      <th>2</th>\n",
       "      <td>2</td>\n",
       "      <td>77820</td>\n",
       "      <td>0.070470</td>\n",
       "      <td>51</td>\n",
       "      <td>Full-time</td>\n",
       "      <td>Low</td>\n",
       "      <td>697</td>\n",
       "      <td>1</td>\n",
       "      <td>3</td>\n",
       "      <td>1</td>\n",
       "      <td>False</td>\n",
       "    </tr>\n",
       "    <tr>\n",
       "      <th>3</th>\n",
       "      <td>1</td>\n",
       "      <td>55886</td>\n",
       "      <td>0.062155</td>\n",
       "      <td>30</td>\n",
       "      <td>Full-time</td>\n",
       "      <td>Low</td>\n",
       "      <td>795</td>\n",
       "      <td>2</td>\n",
       "      <td>2</td>\n",
       "      <td>4</td>\n",
       "      <td>False</td>\n",
       "    </tr>\n",
       "    <tr>\n",
       "      <th>4</th>\n",
       "      <td>3</td>\n",
       "      <td>7265</td>\n",
       "      <td>0.070635</td>\n",
       "      <td>48</td>\n",
       "      <td>Part-time</td>\n",
       "      <td>Low</td>\n",
       "      <td>519</td>\n",
       "      <td>2</td>\n",
       "      <td>2</td>\n",
       "      <td>1</td>\n",
       "      <td>False</td>\n",
       "    </tr>\n",
       "  </tbody>\n",
       "</table>\n",
       "</div>"
      ],
      "text/plain": [
       "   loan_type  loan_amount  interest_rate  loan_term employment_type  \\\n",
       "0          1        16795       0.051852         15   Self-employed   \n",
       "1          2         1860       0.089296         56       Full-time   \n",
       "2          2        77820       0.070470         51       Full-time   \n",
       "3          1        55886       0.062155         30       Full-time   \n",
       "4          3         7265       0.070635         48       Part-time   \n",
       "\n",
       "  income_level  credit_score  gender  marital_status  education_level  \\\n",
       "0       Medium           833       1               1                3   \n",
       "1       Medium           776       2               2                2   \n",
       "2          Low           697       1               3                1   \n",
       "3          Low           795       2               2                4   \n",
       "4          Low           519       2               2                1   \n",
       "\n",
       "   default_status  \n",
       "0           False  \n",
       "1           False  \n",
       "2           False  \n",
       "3           False  \n",
       "4           False  "
      ]
     },
     "execution_count": 43,
     "metadata": {},
     "output_type": "execute_result"
    }
   ],
   "source": [
    "# Converting text to integer\n",
    "# education_level column: \n",
    "# High School - 1\n",
    "# Bachelor - 2\n",
    "# Master - 3\n",
    "# PhD - 4\n",
    "\n",
    "df1['education_level'] = df1['education_level'].map({ \"PhD\": 4, \"Master\": 3, \n",
    "                                                     \"Bachelor\": 2, \"High School\": 1})\n",
    "\n",
    "df1.head()"
   ]
  },
  {
   "cell_type": "code",
   "execution_count": 44,
   "id": "3072fec9",
   "metadata": {},
   "outputs": [
    {
     "data": {
      "text/html": [
       "<div>\n",
       "<style scoped>\n",
       "    .dataframe tbody tr th:only-of-type {\n",
       "        vertical-align: middle;\n",
       "    }\n",
       "\n",
       "    .dataframe tbody tr th {\n",
       "        vertical-align: top;\n",
       "    }\n",
       "\n",
       "    .dataframe thead th {\n",
       "        text-align: right;\n",
       "    }\n",
       "</style>\n",
       "<table border=\"1\" class=\"dataframe\">\n",
       "  <thead>\n",
       "    <tr style=\"text-align: right;\">\n",
       "      <th></th>\n",
       "      <th>loan_type</th>\n",
       "      <th>loan_amount</th>\n",
       "      <th>interest_rate</th>\n",
       "      <th>loan_term</th>\n",
       "      <th>employment_type</th>\n",
       "      <th>income_level</th>\n",
       "      <th>credit_score</th>\n",
       "      <th>gender</th>\n",
       "      <th>marital_status</th>\n",
       "      <th>education_level</th>\n",
       "      <th>default_status</th>\n",
       "    </tr>\n",
       "  </thead>\n",
       "  <tbody>\n",
       "    <tr>\n",
       "      <th>0</th>\n",
       "      <td>1</td>\n",
       "      <td>16795</td>\n",
       "      <td>0.051852</td>\n",
       "      <td>15</td>\n",
       "      <td>1</td>\n",
       "      <td>Medium</td>\n",
       "      <td>833</td>\n",
       "      <td>1</td>\n",
       "      <td>1</td>\n",
       "      <td>3</td>\n",
       "      <td>False</td>\n",
       "    </tr>\n",
       "    <tr>\n",
       "      <th>1</th>\n",
       "      <td>2</td>\n",
       "      <td>1860</td>\n",
       "      <td>0.089296</td>\n",
       "      <td>56</td>\n",
       "      <td>3</td>\n",
       "      <td>Medium</td>\n",
       "      <td>776</td>\n",
       "      <td>2</td>\n",
       "      <td>2</td>\n",
       "      <td>2</td>\n",
       "      <td>False</td>\n",
       "    </tr>\n",
       "    <tr>\n",
       "      <th>2</th>\n",
       "      <td>2</td>\n",
       "      <td>77820</td>\n",
       "      <td>0.070470</td>\n",
       "      <td>51</td>\n",
       "      <td>3</td>\n",
       "      <td>Low</td>\n",
       "      <td>697</td>\n",
       "      <td>1</td>\n",
       "      <td>3</td>\n",
       "      <td>1</td>\n",
       "      <td>False</td>\n",
       "    </tr>\n",
       "    <tr>\n",
       "      <th>3</th>\n",
       "      <td>1</td>\n",
       "      <td>55886</td>\n",
       "      <td>0.062155</td>\n",
       "      <td>30</td>\n",
       "      <td>3</td>\n",
       "      <td>Low</td>\n",
       "      <td>795</td>\n",
       "      <td>2</td>\n",
       "      <td>2</td>\n",
       "      <td>4</td>\n",
       "      <td>False</td>\n",
       "    </tr>\n",
       "    <tr>\n",
       "      <th>4</th>\n",
       "      <td>3</td>\n",
       "      <td>7265</td>\n",
       "      <td>0.070635</td>\n",
       "      <td>48</td>\n",
       "      <td>2</td>\n",
       "      <td>Low</td>\n",
       "      <td>519</td>\n",
       "      <td>2</td>\n",
       "      <td>2</td>\n",
       "      <td>1</td>\n",
       "      <td>False</td>\n",
       "    </tr>\n",
       "  </tbody>\n",
       "</table>\n",
       "</div>"
      ],
      "text/plain": [
       "   loan_type  loan_amount  interest_rate  loan_term  employment_type  \\\n",
       "0          1        16795       0.051852         15                1   \n",
       "1          2         1860       0.089296         56                3   \n",
       "2          2        77820       0.070470         51                3   \n",
       "3          1        55886       0.062155         30                3   \n",
       "4          3         7265       0.070635         48                2   \n",
       "\n",
       "  income_level  credit_score  gender  marital_status  education_level  \\\n",
       "0       Medium           833       1               1                3   \n",
       "1       Medium           776       2               2                2   \n",
       "2          Low           697       1               3                1   \n",
       "3          Low           795       2               2                4   \n",
       "4          Low           519       2               2                1   \n",
       "\n",
       "   default_status  \n",
       "0           False  \n",
       "1           False  \n",
       "2           False  \n",
       "3           False  \n",
       "4           False  "
      ]
     },
     "execution_count": 44,
     "metadata": {},
     "output_type": "execute_result"
    }
   ],
   "source": [
    "# Converting text to integer\n",
    "# employment_type column: \n",
    "# Self-employed - 1\n",
    "# Part-time - 2\n",
    "# Full-time - 3\n",
    "\n",
    "df1['employment_type'] = df1['employment_type'].map({ \"Full-time\": 3, \"Part-time\": 2, \n",
    "                                                   \"Self-employed\": 1})\n",
    "\n",
    "df1.head()"
   ]
  },
  {
   "cell_type": "code",
   "execution_count": 45,
   "id": "2dccd9d4",
   "metadata": {},
   "outputs": [
    {
     "data": {
      "text/html": [
       "<div>\n",
       "<style scoped>\n",
       "    .dataframe tbody tr th:only-of-type {\n",
       "        vertical-align: middle;\n",
       "    }\n",
       "\n",
       "    .dataframe tbody tr th {\n",
       "        vertical-align: top;\n",
       "    }\n",
       "\n",
       "    .dataframe thead th {\n",
       "        text-align: right;\n",
       "    }\n",
       "</style>\n",
       "<table border=\"1\" class=\"dataframe\">\n",
       "  <thead>\n",
       "    <tr style=\"text-align: right;\">\n",
       "      <th></th>\n",
       "      <th>loan_type</th>\n",
       "      <th>loan_amount</th>\n",
       "      <th>interest_rate</th>\n",
       "      <th>loan_term</th>\n",
       "      <th>employment_type</th>\n",
       "      <th>income_level</th>\n",
       "      <th>credit_score</th>\n",
       "      <th>gender</th>\n",
       "      <th>marital_status</th>\n",
       "      <th>education_level</th>\n",
       "      <th>default_status</th>\n",
       "    </tr>\n",
       "  </thead>\n",
       "  <tbody>\n",
       "    <tr>\n",
       "      <th>0</th>\n",
       "      <td>1</td>\n",
       "      <td>16795</td>\n",
       "      <td>0.051852</td>\n",
       "      <td>15</td>\n",
       "      <td>1</td>\n",
       "      <td>2</td>\n",
       "      <td>833</td>\n",
       "      <td>1</td>\n",
       "      <td>1</td>\n",
       "      <td>3</td>\n",
       "      <td>False</td>\n",
       "    </tr>\n",
       "    <tr>\n",
       "      <th>1</th>\n",
       "      <td>2</td>\n",
       "      <td>1860</td>\n",
       "      <td>0.089296</td>\n",
       "      <td>56</td>\n",
       "      <td>3</td>\n",
       "      <td>2</td>\n",
       "      <td>776</td>\n",
       "      <td>2</td>\n",
       "      <td>2</td>\n",
       "      <td>2</td>\n",
       "      <td>False</td>\n",
       "    </tr>\n",
       "    <tr>\n",
       "      <th>2</th>\n",
       "      <td>2</td>\n",
       "      <td>77820</td>\n",
       "      <td>0.070470</td>\n",
       "      <td>51</td>\n",
       "      <td>3</td>\n",
       "      <td>1</td>\n",
       "      <td>697</td>\n",
       "      <td>1</td>\n",
       "      <td>3</td>\n",
       "      <td>1</td>\n",
       "      <td>False</td>\n",
       "    </tr>\n",
       "    <tr>\n",
       "      <th>3</th>\n",
       "      <td>1</td>\n",
       "      <td>55886</td>\n",
       "      <td>0.062155</td>\n",
       "      <td>30</td>\n",
       "      <td>3</td>\n",
       "      <td>1</td>\n",
       "      <td>795</td>\n",
       "      <td>2</td>\n",
       "      <td>2</td>\n",
       "      <td>4</td>\n",
       "      <td>False</td>\n",
       "    </tr>\n",
       "    <tr>\n",
       "      <th>4</th>\n",
       "      <td>3</td>\n",
       "      <td>7265</td>\n",
       "      <td>0.070635</td>\n",
       "      <td>48</td>\n",
       "      <td>2</td>\n",
       "      <td>1</td>\n",
       "      <td>519</td>\n",
       "      <td>2</td>\n",
       "      <td>2</td>\n",
       "      <td>1</td>\n",
       "      <td>False</td>\n",
       "    </tr>\n",
       "  </tbody>\n",
       "</table>\n",
       "</div>"
      ],
      "text/plain": [
       "   loan_type  loan_amount  interest_rate  loan_term  employment_type  \\\n",
       "0          1        16795       0.051852         15                1   \n",
       "1          2         1860       0.089296         56                3   \n",
       "2          2        77820       0.070470         51                3   \n",
       "3          1        55886       0.062155         30                3   \n",
       "4          3         7265       0.070635         48                2   \n",
       "\n",
       "   income_level  credit_score  gender  marital_status  education_level  \\\n",
       "0             2           833       1               1                3   \n",
       "1             2           776       2               2                2   \n",
       "2             1           697       1               3                1   \n",
       "3             1           795       2               2                4   \n",
       "4             1           519       2               2                1   \n",
       "\n",
       "   default_status  \n",
       "0           False  \n",
       "1           False  \n",
       "2           False  \n",
       "3           False  \n",
       "4           False  "
      ]
     },
     "execution_count": 45,
     "metadata": {},
     "output_type": "execute_result"
    }
   ],
   "source": [
    "# Converting text to integer\n",
    "# income_level column: \n",
    "# Low - 1\n",
    "# Medium - 2\n",
    "# High - 3\n",
    "\n",
    "df1[\"income_level\"] = df1[\"income_level\"].map({ \"Low\": 1, \"Medium\": 2, \"High\": 3})\n",
    "\n",
    "df1.head()"
   ]
  },
  {
   "cell_type": "code",
   "execution_count": 46,
   "id": "b0722c3b",
   "metadata": {
    "scrolled": true
   },
   "outputs": [
    {
     "data": {
      "text/html": [
       "<div>\n",
       "<style scoped>\n",
       "    .dataframe tbody tr th:only-of-type {\n",
       "        vertical-align: middle;\n",
       "    }\n",
       "\n",
       "    .dataframe tbody tr th {\n",
       "        vertical-align: top;\n",
       "    }\n",
       "\n",
       "    .dataframe thead th {\n",
       "        text-align: right;\n",
       "    }\n",
       "</style>\n",
       "<table border=\"1\" class=\"dataframe\">\n",
       "  <thead>\n",
       "    <tr style=\"text-align: right;\">\n",
       "      <th></th>\n",
       "      <th>loan_type</th>\n",
       "      <th>loan_amount</th>\n",
       "      <th>interest_rate</th>\n",
       "      <th>loan_term</th>\n",
       "      <th>employment_type</th>\n",
       "      <th>income_level</th>\n",
       "      <th>credit_score</th>\n",
       "      <th>gender</th>\n",
       "      <th>marital_status</th>\n",
       "      <th>education_level</th>\n",
       "      <th>default_status</th>\n",
       "    </tr>\n",
       "  </thead>\n",
       "  <tbody>\n",
       "    <tr>\n",
       "      <th>0</th>\n",
       "      <td>1</td>\n",
       "      <td>16795</td>\n",
       "      <td>0.051852</td>\n",
       "      <td>15</td>\n",
       "      <td>1</td>\n",
       "      <td>2</td>\n",
       "      <td>833</td>\n",
       "      <td>1</td>\n",
       "      <td>1</td>\n",
       "      <td>3</td>\n",
       "      <td>0</td>\n",
       "    </tr>\n",
       "    <tr>\n",
       "      <th>1</th>\n",
       "      <td>2</td>\n",
       "      <td>1860</td>\n",
       "      <td>0.089296</td>\n",
       "      <td>56</td>\n",
       "      <td>3</td>\n",
       "      <td>2</td>\n",
       "      <td>776</td>\n",
       "      <td>2</td>\n",
       "      <td>2</td>\n",
       "      <td>2</td>\n",
       "      <td>0</td>\n",
       "    </tr>\n",
       "    <tr>\n",
       "      <th>2</th>\n",
       "      <td>2</td>\n",
       "      <td>77820</td>\n",
       "      <td>0.070470</td>\n",
       "      <td>51</td>\n",
       "      <td>3</td>\n",
       "      <td>1</td>\n",
       "      <td>697</td>\n",
       "      <td>1</td>\n",
       "      <td>3</td>\n",
       "      <td>1</td>\n",
       "      <td>0</td>\n",
       "    </tr>\n",
       "    <tr>\n",
       "      <th>3</th>\n",
       "      <td>1</td>\n",
       "      <td>55886</td>\n",
       "      <td>0.062155</td>\n",
       "      <td>30</td>\n",
       "      <td>3</td>\n",
       "      <td>1</td>\n",
       "      <td>795</td>\n",
       "      <td>2</td>\n",
       "      <td>2</td>\n",
       "      <td>4</td>\n",
       "      <td>0</td>\n",
       "    </tr>\n",
       "    <tr>\n",
       "      <th>4</th>\n",
       "      <td>3</td>\n",
       "      <td>7265</td>\n",
       "      <td>0.070635</td>\n",
       "      <td>48</td>\n",
       "      <td>2</td>\n",
       "      <td>1</td>\n",
       "      <td>519</td>\n",
       "      <td>2</td>\n",
       "      <td>2</td>\n",
       "      <td>1</td>\n",
       "      <td>0</td>\n",
       "    </tr>\n",
       "  </tbody>\n",
       "</table>\n",
       "</div>"
      ],
      "text/plain": [
       "   loan_type  loan_amount  interest_rate  loan_term  employment_type  \\\n",
       "0          1        16795       0.051852         15                1   \n",
       "1          2         1860       0.089296         56                3   \n",
       "2          2        77820       0.070470         51                3   \n",
       "3          1        55886       0.062155         30                3   \n",
       "4          3         7265       0.070635         48                2   \n",
       "\n",
       "   income_level  credit_score  gender  marital_status  education_level  \\\n",
       "0             2           833       1               1                3   \n",
       "1             2           776       2               2                2   \n",
       "2             1           697       1               3                1   \n",
       "3             1           795       2               2                4   \n",
       "4             1           519       2               2                1   \n",
       "\n",
       "   default_status  \n",
       "0               0  \n",
       "1               0  \n",
       "2               0  \n",
       "3               0  \n",
       "4               0  "
      ]
     },
     "execution_count": 46,
     "metadata": {},
     "output_type": "execute_result"
    }
   ],
   "source": [
    "# Converting true/false (boolean) text to integer\n",
    "# default_status column: \n",
    "# False - 0\n",
    "# True - 1\n",
    "\n",
    "df1[\"default_status\"] = df1[\"default_status\"].astype(int)\n",
    "\n",
    "df1.head()"
   ]
  },
  {
   "cell_type": "markdown",
   "id": "d9a5d4e2",
   "metadata": {},
   "source": [
    "# Modelling"
   ]
  },
  {
   "cell_type": "code",
   "execution_count": 47,
   "id": "f1d7970b",
   "metadata": {},
   "outputs": [],
   "source": [
    "# Import libraries\n",
    "\n",
    "from sklearn.metrics import confusion_matrix\n",
    "from sklearn.metrics import classification_report"
   ]
  },
  {
   "cell_type": "code",
   "execution_count": 48,
   "id": "af614897",
   "metadata": {},
   "outputs": [],
   "source": [
    "# separate into train and test fror non-target variables\n",
    "# and target variables\n",
    "# 70 % train 30% test\n",
    "\n",
    "X = df1.drop([\"default_status\"], axis=1)\n",
    "y = df1[\"default_status\"]\n",
    "\n",
    "from sklearn.model_selection import train_test_split\n",
    "\n",
    "X_train, X_test, y_train, y_test = train_test_split(X, y, test_size = 0.3, random_state = 0)"
   ]
  },
  {
   "cell_type": "markdown",
   "id": "b3576b3b",
   "metadata": {},
   "source": [
    "# Logistic Regression"
   ]
  },
  {
   "cell_type": "code",
   "execution_count": 49,
   "id": "7ce71161",
   "metadata": {},
   "outputs": [
    {
     "name": "stdout",
     "output_type": "stream",
     "text": [
      "              precision    recall  f1-score   support\n",
      "\n",
      "           0       0.81      1.00      0.90      1215\n",
      "           1       0.00      0.00      0.00       285\n",
      "\n",
      "    accuracy                           0.81      1500\n",
      "   macro avg       0.41      0.50      0.45      1500\n",
      "weighted avg       0.66      0.81      0.72      1500\n",
      "\n",
      "[[1215    0]\n",
      " [ 285    0]]\n",
      "Logistic Regression accuracy is: 81.00%\n"
     ]
    }
   ],
   "source": [
    "from sklearn.linear_model import LogisticRegression\n",
    "LRclassifier = LogisticRegression(solver='liblinear', max_iter=5000)\n",
    "LRclassifier.fit(X_train, y_train)\n",
    "\n",
    "y_pred = LRclassifier.predict(X_test)\n",
    "\n",
    "print(classification_report(y_test, y_pred))\n",
    "print(confusion_matrix(y_test, y_pred))\n",
    "\n",
    "from sklearn.metrics import accuracy_score\n",
    "LRAcc = accuracy_score(y_pred,y_test)\n",
    "print('Logistic Regression accuracy is: {:.2f}%'.format(LRAcc*100))"
   ]
  },
  {
   "cell_type": "code",
   "execution_count": 50,
   "id": "62c7c6da",
   "metadata": {},
   "outputs": [
    {
     "name": "stdout",
     "output_type": "stream",
     "text": [
      "              precision    recall  f1-score   support\n",
      "\n",
      "           0       0.81      1.00      0.90      1215\n",
      "           1       0.00      0.00      0.00       285\n",
      "\n",
      "    accuracy                           0.81      1500\n",
      "   macro avg       0.41      0.50      0.45      1500\n",
      "weighted avg       0.66      0.81      0.72      1500\n",
      "\n",
      "[[1215    0]\n",
      " [ 285    0]]\n",
      "Logistic Regression accuracy is: 81.00%\n"
     ]
    }
   ],
   "source": [
    "from sklearn.linear_model import LogisticRegression\n",
    "LRclassifier = LogisticRegression(solver='newton-cg', max_iter=5000)\n",
    "LRclassifier.fit(X_train, y_train)\n",
    "\n",
    "y_pred = LRclassifier.predict(X_test)\n",
    "\n",
    "print(classification_report(y_test, y_pred))\n",
    "print(confusion_matrix(y_test, y_pred))\n",
    "\n",
    "from sklearn.metrics import accuracy_score\n",
    "LRAcc = accuracy_score(y_pred,y_test)\n",
    "print('Logistic Regression accuracy is: {:.2f}%'.format(LRAcc*100))"
   ]
  },
  {
   "cell_type": "code",
   "execution_count": 51,
   "id": "09cca257",
   "metadata": {},
   "outputs": [
    {
     "name": "stdout",
     "output_type": "stream",
     "text": [
      "              precision    recall  f1-score   support\n",
      "\n",
      "           0       0.81      1.00      0.90      1215\n",
      "           1       0.00      0.00      0.00       285\n",
      "\n",
      "    accuracy                           0.81      1500\n",
      "   macro avg       0.41      0.50      0.45      1500\n",
      "weighted avg       0.66      0.81      0.72      1500\n",
      "\n",
      "[[1215    0]\n",
      " [ 285    0]]\n",
      "Logistic Regression accuracy is: 81.00%\n"
     ]
    }
   ],
   "source": [
    "from sklearn.linear_model import LogisticRegression\n",
    "LRclassifier = LogisticRegression(solver='sag', max_iter=5000)\n",
    "LRclassifier.fit(X_train, y_train)\n",
    "\n",
    "y_pred = LRclassifier.predict(X_test)\n",
    "\n",
    "print(classification_report(y_test, y_pred))\n",
    "print(confusion_matrix(y_test, y_pred))\n",
    "\n",
    "from sklearn.metrics import accuracy_score\n",
    "LRAcc = accuracy_score(y_pred,y_test)\n",
    "print('Logistic Regression accuracy is: {:.2f}%'.format(LRAcc*100))"
   ]
  },
  {
   "cell_type": "code",
   "execution_count": 52,
   "id": "e27a731a",
   "metadata": {},
   "outputs": [
    {
     "name": "stdout",
     "output_type": "stream",
     "text": [
      "              precision    recall  f1-score   support\n",
      "\n",
      "           0       0.81      1.00      0.90      1215\n",
      "           1       0.00      0.00      0.00       285\n",
      "\n",
      "    accuracy                           0.81      1500\n",
      "   macro avg       0.41      0.50      0.45      1500\n",
      "weighted avg       0.66      0.81      0.72      1500\n",
      "\n",
      "[[1215    0]\n",
      " [ 285    0]]\n",
      "Logistic Regression accuracy is: 81.00%\n"
     ]
    }
   ],
   "source": [
    "from sklearn.linear_model import LogisticRegression\n",
    "LRclassifier = LogisticRegression(solver='saga', max_iter=5000)\n",
    "LRclassifier.fit(X_train, y_train)\n",
    "\n",
    "y_pred = LRclassifier.predict(X_test)\n",
    "\n",
    "print(classification_report(y_test, y_pred))\n",
    "print(confusion_matrix(y_test, y_pred))\n",
    "\n",
    "from sklearn.metrics import accuracy_score\n",
    "LRAcc = accuracy_score(y_pred,y_test)\n",
    "print('Logistic Regression accuracy is: {:.2f}%'.format(LRAcc*100))"
   ]
  },
  {
   "cell_type": "code",
   "execution_count": 53,
   "id": "5f7f7b51",
   "metadata": {
    "scrolled": false
   },
   "outputs": [
    {
     "name": "stdout",
     "output_type": "stream",
     "text": [
      "              precision    recall  f1-score   support\n",
      "\n",
      "           0       0.81      1.00      0.90      1215\n",
      "           1       0.00      0.00      0.00       285\n",
      "\n",
      "    accuracy                           0.81      1500\n",
      "   macro avg       0.41      0.50      0.45      1500\n",
      "weighted avg       0.66      0.81      0.72      1500\n",
      "\n",
      "[[1215    0]\n",
      " [ 285    0]]\n",
      "Logistic Regression accuracy is: 81.00%\n"
     ]
    }
   ],
   "source": [
    "from sklearn.linear_model import LogisticRegression\n",
    "LRclassifier = LogisticRegression(solver='lbfgs', max_iter=5000)\n",
    "LRclassifier.fit(X_train, y_train)\n",
    "\n",
    "y_pred = LRclassifier.predict(X_test)\n",
    "\n",
    "print(classification_report(y_test, y_pred))\n",
    "print(confusion_matrix(y_test, y_pred))\n",
    "\n",
    "from sklearn.metrics import accuracy_score\n",
    "LRAcc = accuracy_score(y_pred,y_test)\n",
    "print('Logistic Regression accuracy is: {:.2f}%'.format(LRAcc*100))"
   ]
  },
  {
   "cell_type": "markdown",
   "id": "0b7ab12a",
   "metadata": {},
   "source": [
    "# Support Vector Machines"
   ]
  },
  {
   "cell_type": "code",
   "execution_count": 54,
   "id": "f63a5db8",
   "metadata": {},
   "outputs": [
    {
     "name": "stdout",
     "output_type": "stream",
     "text": [
      "              precision    recall  f1-score   support\n",
      "\n",
      "           0       0.80      0.39      0.53      1215\n",
      "           1       0.18      0.57      0.27       285\n",
      "\n",
      "    accuracy                           0.43      1500\n",
      "   macro avg       0.49      0.48      0.40      1500\n",
      "weighted avg       0.68      0.43      0.48      1500\n",
      "\n",
      "[[479 736]\n",
      " [123 162]]\n",
      "SVC accuracy is: 42.73%\n"
     ]
    }
   ],
   "source": [
    "from sklearn.svm import SVC\n",
    "SVCclassifier = SVC(kernel='linear', max_iter=251)\n",
    "SVCclassifier.fit(X_train, y_train)\n",
    "\n",
    "y_pred = SVCclassifier.predict(X_test)\n",
    "\n",
    "print(classification_report(y_test, y_pred))\n",
    "print(confusion_matrix(y_test, y_pred))\n",
    "\n",
    "from sklearn.metrics import accuracy_score\n",
    "SVCAcc = accuracy_score(y_pred,y_test)\n",
    "print('SVC accuracy is: {:.2f}%'.format(SVCAcc*100))"
   ]
  },
  {
   "cell_type": "code",
   "execution_count": 55,
   "id": "a160db11",
   "metadata": {},
   "outputs": [
    {
     "name": "stdout",
     "output_type": "stream",
     "text": [
      "              precision    recall  f1-score   support\n",
      "\n",
      "           0       0.81      1.00      0.90      1215\n",
      "           1       0.00      0.00      0.00       285\n",
      "\n",
      "    accuracy                           0.81      1500\n",
      "   macro avg       0.41      0.50      0.45      1500\n",
      "weighted avg       0.66      0.81      0.72      1500\n",
      "\n",
      "[[1215    0]\n",
      " [ 285    0]]\n",
      "SVC accuracy is: 81.00%\n"
     ]
    }
   ],
   "source": [
    "from sklearn.svm import SVC\n",
    "SVCclassifier = SVC(kernel='poly', max_iter=5000)\n",
    "SVCclassifier.fit(X_train, y_train)\n",
    "\n",
    "y_pred = SVCclassifier.predict(X_test)\n",
    "\n",
    "print(classification_report(y_test, y_pred))\n",
    "print(confusion_matrix(y_test, y_pred))\n",
    "\n",
    "from sklearn.metrics import accuracy_score\n",
    "SVCAcc = accuracy_score(y_pred,y_test)\n",
    "print('SVC accuracy is: {:.2f}%'.format(SVCAcc*100))"
   ]
  },
  {
   "cell_type": "code",
   "execution_count": 56,
   "id": "f7ddb391",
   "metadata": {},
   "outputs": [
    {
     "name": "stdout",
     "output_type": "stream",
     "text": [
      "              precision    recall  f1-score   support\n",
      "\n",
      "           0       0.81      1.00      0.90      1215\n",
      "           1       0.00      0.00      0.00       285\n",
      "\n",
      "    accuracy                           0.81      1500\n",
      "   macro avg       0.41      0.50      0.45      1500\n",
      "weighted avg       0.66      0.81      0.72      1500\n",
      "\n",
      "[[1215    0]\n",
      " [ 285    0]]\n",
      "SVC accuracy is: 81.00%\n"
     ]
    }
   ],
   "source": [
    "from sklearn.svm import SVC\n",
    "SVCclassifier = SVC(kernel='poly')\n",
    "SVCclassifier.fit(X_train, y_train)\n",
    "\n",
    "y_pred = SVCclassifier.predict(X_test)\n",
    "\n",
    "print(classification_report(y_test, y_pred))\n",
    "print(confusion_matrix(y_test, y_pred))\n",
    "\n",
    "from sklearn.metrics import accuracy_score\n",
    "SVCAcc = accuracy_score(y_pred,y_test)\n",
    "print('SVC accuracy is: {:.2f}%'.format(SVCAcc*100))"
   ]
  },
  {
   "cell_type": "markdown",
   "id": "eb4c21e9",
   "metadata": {},
   "source": [
    "# K Neighbors"
   ]
  },
  {
   "cell_type": "code",
   "execution_count": 57,
   "id": "feb55f3d",
   "metadata": {},
   "outputs": [
    {
     "name": "stdout",
     "output_type": "stream",
     "text": [
      "              precision    recall  f1-score   support\n",
      "\n",
      "           0       0.81      1.00      0.90      1215\n",
      "           1       0.00      0.00      0.00       285\n",
      "\n",
      "    accuracy                           0.81      1500\n",
      "   macro avg       0.41      0.50      0.45      1500\n",
      "weighted avg       0.66      0.81      0.72      1500\n",
      "\n",
      "[[1215    0]\n",
      " [ 285    0]]\n",
      "K Neighbours accuracy is: 81.00%\n"
     ]
    }
   ],
   "source": [
    "from sklearn.neighbors import KNeighborsClassifier\n",
    "KNclassifier = KNeighborsClassifier(n_neighbors=30)\n",
    "KNclassifier.fit(X_train, y_train)\n",
    "\n",
    "y_pred = KNclassifier.predict(X_test.values)\n",
    "\n",
    "print(classification_report(y_test, y_pred))\n",
    "print(confusion_matrix(y_test, y_pred))\n",
    "\n",
    "from sklearn.metrics import accuracy_score\n",
    "KNAcc = accuracy_score(y_pred,y_test)\n",
    "print('K Neighbours accuracy is: {:.2f}%'.format(KNAcc*100))"
   ]
  },
  {
   "cell_type": "code",
   "execution_count": 58,
   "id": "dd4a9054",
   "metadata": {
    "scrolled": true
   },
   "outputs": [
    {
     "data": {
      "image/png": "[encoded data removed]",
      "text/plain": [
       "<Figure size 640x480 with 1 Axes>"
      ]
     },
     "metadata": {},
     "output_type": "display_data"
    },
    {
     "name": "stdout",
     "output_type": "stream",
     "text": [
      "KNeighbours Acc Max 81.00%\n"
     ]
    }
   ],
   "source": [
    "scoreListKN = []\n",
    "for i in range(2,50):\n",
    "    KNclassifier = KNeighborsClassifier(n_neighbors=i)\n",
    "    KNclassifier.fit(X_train, y_train)\n",
    "    scoreListKN.append(KNclassifier.score(X_test.values, y_test))\n",
    "    \n",
    "plt.plot(range(2,50), scoreListKN)\n",
    "plt.xticks(np.arange(2,50,5))\n",
    "plt.xlabel(\"KN Value\")\n",
    "plt.ylabel(\"Score\")\n",
    "plt.show()\n",
    "KNAccMax = max(scoreListKN)\n",
    "print(\"KNeighbours Acc Max {:.2f}%\".format(KNAccMax*100))"
   ]
  },
  {
   "cell_type": "markdown",
   "id": "41b96d47",
   "metadata": {},
   "source": [
    "# Decision Tree"
   ]
  },
  {
   "cell_type": "code",
   "execution_count": 59,
   "id": "9667b2f1",
   "metadata": {},
   "outputs": [
    {
     "name": "stdout",
     "output_type": "stream",
     "text": [
      "              precision    recall  f1-score   support\n",
      "\n",
      "           0       0.81      1.00      0.90      1215\n",
      "           1       0.00      0.00      0.00       285\n",
      "\n",
      "    accuracy                           0.81      1500\n",
      "   macro avg       0.41      0.50      0.45      1500\n",
      "weighted avg       0.66      0.81      0.72      1500\n",
      "\n",
      "[[1215    0]\n",
      " [ 285    0]]\n",
      "Decision Tree accuracy is: 81.00%\n"
     ]
    }
   ],
   "source": [
    "from sklearn.tree import DecisionTreeClassifier\n",
    "DTclassifier = DecisionTreeClassifier(max_leaf_nodes=2)\n",
    "DTclassifier.fit(X_train, y_train)\n",
    "\n",
    "y_pred = DTclassifier.predict(X_test)\n",
    "\n",
    "print(classification_report(y_test, y_pred))\n",
    "print(confusion_matrix(y_test, y_pred))\n",
    "\n",
    "from sklearn.metrics import accuracy_score\n",
    "DTAcc = accuracy_score(y_pred,y_test)\n",
    "print('Decision Tree accuracy is: {:.2f}%'.format(DTAcc*100))"
   ]
  },
  {
   "cell_type": "code",
   "execution_count": 60,
   "id": "2f95cb92",
   "metadata": {
    "scrolled": true
   },
   "outputs": [
    {
     "data": {
      "image/png": "[encoded data removed]",
      "text/plain": [
       "<Figure size 640x480 with 1 Axes>"
      ]
     },
     "metadata": {},
     "output_type": "display_data"
    },
    {
     "name": "stdout",
     "output_type": "stream",
     "text": [
      "DT Acc Max 81.00%\n"
     ]
    }
   ],
   "source": [
    "scoreListDT = []\n",
    "for i in range(2,50):\n",
    "    DTclassifier = DecisionTreeClassifier(max_leaf_nodes=i)\n",
    "    DTclassifier.fit(X_train, y_train)\n",
    "    scoreListDT.append(DTclassifier.score(X_test, y_test))\n",
    "    \n",
    "plt.plot(range(2,50), scoreListDT)\n",
    "plt.xticks(np.arange(2,50,5))\n",
    "plt.xlabel(\"Leaf\")\n",
    "plt.ylabel(\"Score\")\n",
    "plt.show()\n",
    "DTAccMax = max(scoreListDT)\n",
    "print(\"DT Acc Max {:.2f}%\".format(DTAccMax*100))"
   ]
  },
  {
   "cell_type": "markdown",
   "id": "af86e336",
   "metadata": {},
   "source": [
    "# Random Forest"
   ]
  },
  {
   "cell_type": "code",
   "execution_count": 61,
   "id": "fa0cd47e",
   "metadata": {},
   "outputs": [
    {
     "name": "stdout",
     "output_type": "stream",
     "text": [
      "              precision    recall  f1-score   support\n",
      "\n",
      "           0       0.81      1.00      0.90      1215\n",
      "           1       0.00      0.00      0.00       285\n",
      "\n",
      "    accuracy                           0.81      1500\n",
      "   macro avg       0.41      0.50      0.45      1500\n",
      "weighted avg       0.66      0.81      0.72      1500\n",
      "\n",
      "[[1215    0]\n",
      " [ 285    0]]\n",
      "Random Forest accuracy is: 81.00%\n"
     ]
    }
   ],
   "source": [
    "from sklearn.ensemble import RandomForestClassifier\n",
    "\n",
    "RFclassifier = RandomForestClassifier(max_leaf_nodes=30)\n",
    "RFclassifier.fit(X_train, y_train)\n",
    "\n",
    "y_pred = RFclassifier.predict(X_test)\n",
    "\n",
    "print(classification_report(y_test, y_pred))\n",
    "print(confusion_matrix(y_test, y_pred))\n",
    "\n",
    "from sklearn.metrics import accuracy_score\n",
    "RFAcc = accuracy_score(y_pred,y_test)\n",
    "print('Random Forest accuracy is: {:.2f}%'.format(RFAcc*100))"
   ]
  },
  {
   "cell_type": "code",
   "execution_count": 62,
   "id": "e1a1eac8",
   "metadata": {},
   "outputs": [
    {
     "data": {
      "image/png": "[encoded data removed]",
      "text/plain": [
       "<Figure size 640x480 with 1 Axes>"
      ]
     },
     "metadata": {},
     "output_type": "display_data"
    },
    {
     "name": "stdout",
     "output_type": "stream",
     "text": [
      "RF Acc Max 81.00%\n"
     ]
    }
   ],
   "source": [
    "# estimators is the number of tress it will create\n",
    "\n",
    "scoreListRF = []\n",
    "for i in range(2,50):\n",
    "    RFclassifier = RandomForestClassifier(n_estimators = 200, random_state = 1, max_leaf_nodes=i)\n",
    "    RFclassifier.fit(X_train, y_train)\n",
    "    scoreListRF.append(RFclassifier.score(X_test, y_test))\n",
    "    \n",
    "plt.plot(range(2,50), scoreListRF)\n",
    "plt.xticks(np.arange(2,50,5))\n",
    "plt.xlabel(\"RF Value\")\n",
    "plt.ylabel(\"Score\")\n",
    "plt.show()\n",
    "RFAccMax = max(scoreListRF)\n",
    "print(\"RF Acc Max {:.2f}%\".format(RFAccMax*100))"
   ]
  },
  {
   "cell_type": "markdown",
   "id": "c4c32ba1",
   "metadata": {},
   "source": [
    "# Categorical Naive Bayes"
   ]
  },
  {
   "cell_type": "code",
   "execution_count": 63,
   "id": "0515563c",
   "metadata": {},
   "outputs": [
    {
     "name": "stdout",
     "output_type": "stream",
     "text": [
      "              precision    recall  f1-score   support\n",
      "\n",
      "           0       0.81      0.98      0.89      1215\n",
      "           1       0.20      0.02      0.03       285\n",
      "\n",
      "    accuracy                           0.80      1500\n",
      "   macro avg       0.51      0.50      0.46      1500\n",
      "weighted avg       0.69      0.80      0.73      1500\n",
      "\n",
      "[[1195   20]\n",
      " [ 280    5]]\n",
      "Naive Bayes accuracy is: 80.00%\n"
     ]
    }
   ],
   "source": [
    "# Naive Bayes from sklearn.naive_bayes import CategoricalNB\n",
    "from sklearn.naive_bayes import CategoricalNB\n",
    "\n",
    "NBclassifier1 = CategoricalNB()\n",
    "NBclassifier1.fit(X_train, y_train)\n",
    "\n",
    "y_pred = NBclassifier1.predict(X_test)\n",
    "\n",
    "print(classification_report(y_test, y_pred))\n",
    "print(confusion_matrix(y_test, y_pred))\n",
    "\n",
    "from sklearn.metrics import accuracy_score\n",
    "NBAcc1 = accuracy_score(y_pred,y_test)\n",
    "print('Naive Bayes accuracy is: {:.2f}%'.format(NBAcc1*100))"
   ]
  },
  {
   "cell_type": "markdown",
   "id": "3f0f54ea",
   "metadata": {},
   "source": [
    "# Gaussian Naive Bayes"
   ]
  },
  {
   "cell_type": "code",
   "execution_count": 64,
   "id": "bc2c01a8",
   "metadata": {},
   "outputs": [
    {
     "name": "stdout",
     "output_type": "stream",
     "text": [
      "              precision    recall  f1-score   support\n",
      "\n",
      "           0       0.81      1.00      0.90      1215\n",
      "           1       0.00      0.00      0.00       285\n",
      "\n",
      "    accuracy                           0.81      1500\n",
      "   macro avg       0.41      0.50      0.45      1500\n",
      "weighted avg       0.66      0.81      0.72      1500\n",
      "\n",
      "[[1215    0]\n",
      " [ 285    0]]\n",
      "Gaussian Naive Bayes accuracy is: 81.00%\n"
     ]
    }
   ],
   "source": [
    "# GaussianNB\n",
    "from sklearn.naive_bayes import GaussianNB\n",
    "NBclassifier2 = GaussianNB()\n",
    "NBclassifier2.fit(X_train, y_train)\n",
    "\n",
    "y_pred = NBclassifier2.predict(X_test)\n",
    "\n",
    "print(classification_report(y_test, y_pred))\n",
    "print(confusion_matrix(y_test, y_pred))\n",
    "\n",
    "from sklearn.metrics import accuracy_score\n",
    "NBAcc2 = accuracy_score(y_pred,y_test)\n",
    "print('Gaussian Naive Bayes accuracy is: {:.2f}%'.format(NBAcc2*100))"
   ]
  },
  {
   "cell_type": "code",
   "execution_count": 65,
   "id": "20cf16a2",
   "metadata": {},
   "outputs": [
    {
     "data": {
      "text/html": [
       "<div>\n",
       "<style scoped>\n",
       "    .dataframe tbody tr th:only-of-type {\n",
       "        vertical-align: middle;\n",
       "    }\n",
       "\n",
       "    .dataframe tbody tr th {\n",
       "        vertical-align: top;\n",
       "    }\n",
       "\n",
       "    .dataframe thead th {\n",
       "        text-align: right;\n",
       "    }\n",
       "</style>\n",
       "<table border=\"1\" class=\"dataframe\">\n",
       "  <thead>\n",
       "    <tr style=\"text-align: right;\">\n",
       "      <th></th>\n",
       "      <th>Model</th>\n",
       "      <th>Accuracy</th>\n",
       "    </tr>\n",
       "  </thead>\n",
       "  <tbody>\n",
       "    <tr>\n",
       "      <th>0</th>\n",
       "      <td>Logistic Regression</td>\n",
       "      <td>81.0</td>\n",
       "    </tr>\n",
       "    <tr>\n",
       "      <th>1</th>\n",
       "      <td>SVM</td>\n",
       "      <td>81.0</td>\n",
       "    </tr>\n",
       "    <tr>\n",
       "      <th>2</th>\n",
       "      <td>Decision Tree</td>\n",
       "      <td>81.0</td>\n",
       "    </tr>\n",
       "    <tr>\n",
       "      <th>3</th>\n",
       "      <td>Random Forest</td>\n",
       "      <td>81.0</td>\n",
       "    </tr>\n",
       "    <tr>\n",
       "      <th>4</th>\n",
       "      <td>GaussianNB</td>\n",
       "      <td>81.0</td>\n",
       "    </tr>\n",
       "    <tr>\n",
       "      <th>5</th>\n",
       "      <td>CategoricalNB</td>\n",
       "      <td>80.0</td>\n",
       "    </tr>\n",
       "  </tbody>\n",
       "</table>\n",
       "</div>"
      ],
      "text/plain": [
       "                 Model  Accuracy\n",
       "0  Logistic Regression      81.0\n",
       "1                  SVM      81.0\n",
       "2        Decision Tree      81.0\n",
       "3        Random Forest      81.0\n",
       "4           GaussianNB      81.0\n",
       "5        CategoricalNB      80.0"
      ]
     },
     "execution_count": 65,
     "metadata": {},
     "output_type": "execute_result"
    }
   ],
   "source": [
    "# accuracy of all models into a dataframe\n",
    "\n",
    "compare = pd.DataFrame({'Model': ['Logistic Regression', 'SVM', 'Decision Tree',  'Random Forest', 'GaussianNB', 'CategoricalNB'], \n",
    "                        'Accuracy': [LRAcc*100, SVCAcc*100, DTAcc*100, RFAcc*100, NBAcc2*100, NBAcc1*100]})\n",
    "compare.sort_values(by='Accuracy', ascending=False)"
   ]
  },
  {
   "cell_type": "code",
   "execution_count": 66,
   "id": "04f7369b",
   "metadata": {},
   "outputs": [
    {
     "data": {
      "text/plain": [
       "<Axes: >"
      ]
     },
     "execution_count": 66,
     "metadata": {},
     "output_type": "execute_result"
    },
    {
     "data": {
      "image/png": "[encoded data removed]",
      "text/plain": [
       "<Figure size 640x480 with 2 Axes>"
      ]
     },
     "metadata": {},
     "output_type": "display_data"
    }
   ],
   "source": [
    "# true negative 0-0\n",
    "# actuals are y-test\n",
    "# heatmap\n",
    "\n",
    "import seaborn as sns\n",
    "from sklearn.metrics import confusion_matrix\n",
    "\n",
    "sns.heatmap(confusion_matrix(y_test, y_pred), annot = True, fmt = '.2f')"
   ]
  },
  {
   "cell_type": "markdown",
   "id": "83417aa4",
   "metadata": {},
   "source": [
    "From the results, it can be seen that most of ML models can reach up to 80% accuracy \n",
    "in predicting classification of loan default status"
   ]
  },
  {
   "cell_type": "code",
   "execution_count": 67,
   "id": "f381384e",
   "metadata": {},
   "outputs": [
    {
     "data": {
      "text/plain": [
       "array([0, 0, 0, ..., 0, 0, 0])"
      ]
     },
     "execution_count": 67,
     "metadata": {},
     "output_type": "execute_result"
    }
   ],
   "source": [
    "y_pred"
   ]
  },
  {
   "cell_type": "code",
   "execution_count": 68,
   "id": "afb72a60",
   "metadata": {},
   "outputs": [
    {
     "data": {
      "text/plain": [
       "398     0\n",
       "3833    0\n",
       "4836    0\n",
       "4572    0\n",
       "636     0\n",
       "       ..\n",
       "4554    0\n",
       "4807    1\n",
       "1073    0\n",
       "2906    0\n",
       "1357    0\n",
       "Name: default_status, Length: 1500, dtype: int32"
      ]
     },
     "execution_count": 68,
     "metadata": {},
     "output_type": "execute_result"
    }
   ],
   "source": [
    "y_test"
   ]
  },
  {
   "cell_type": "code",
   "execution_count": 69,
   "id": "4a0b50d6",
   "metadata": {},
   "outputs": [],
   "source": [
    "# separate into train and test fror non-target variables\n",
    "# and target variables\n",
    "# 75 % train 25% test\n",
    "\n",
    "X = df1.drop([\"default_status\"], axis=1)\n",
    "y = df1[\"default_status\"]\n",
    "\n",
    "from sklearn.model_selection import train_test_split\n",
    "\n",
    "X_train, X_test, y_train, y_test = train_test_split(X, y, test_size = 0.25, random_state = 0)"
   ]
  },
  {
   "cell_type": "markdown",
   "id": "f987ba14",
   "metadata": {},
   "source": [
    "# Logistic Regression"
   ]
  },
  {
   "cell_type": "code",
   "execution_count": 70,
   "id": "9e7946ba",
   "metadata": {},
   "outputs": [
    {
     "name": "stdout",
     "output_type": "stream",
     "text": [
      "              precision    recall  f1-score   support\n",
      "\n",
      "           0       0.81      1.00      0.89      1009\n",
      "           1       0.00      0.00      0.00       241\n",
      "\n",
      "    accuracy                           0.81      1250\n",
      "   macro avg       0.40      0.50      0.45      1250\n",
      "weighted avg       0.65      0.81      0.72      1250\n",
      "\n",
      "[[1009    0]\n",
      " [ 241    0]]\n",
      "Logistic Regression accuracy is: 80.72%\n"
     ]
    }
   ],
   "source": [
    "from sklearn.linear_model import LogisticRegression\n",
    "LRclassifier = LogisticRegression(solver='liblinear', max_iter=5000)\n",
    "LRclassifier.fit(X_train, y_train)\n",
    "\n",
    "y_pred = LRclassifier.predict(X_test)\n",
    "\n",
    "print(classification_report(y_test, y_pred))\n",
    "print(confusion_matrix(y_test, y_pred))\n",
    "\n",
    "from sklearn.metrics import accuracy_score\n",
    "LRAcc = accuracy_score(y_pred,y_test)\n",
    "print('Logistic Regression accuracy is: {:.2f}%'.format(LRAcc*100))"
   ]
  },
  {
   "cell_type": "code",
   "execution_count": 71,
   "id": "d719295d",
   "metadata": {},
   "outputs": [
    {
     "name": "stdout",
     "output_type": "stream",
     "text": [
      "              precision    recall  f1-score   support\n",
      "\n",
      "           0       0.81      1.00      0.89      1009\n",
      "           1       0.00      0.00      0.00       241\n",
      "\n",
      "    accuracy                           0.81      1250\n",
      "   macro avg       0.40      0.50      0.45      1250\n",
      "weighted avg       0.65      0.81      0.72      1250\n",
      "\n",
      "[[1009    0]\n",
      " [ 241    0]]\n",
      "Logistic Regression accuracy is: 80.72%\n"
     ]
    }
   ],
   "source": [
    "from sklearn.linear_model import LogisticRegression\n",
    "LRclassifier = LogisticRegression(solver='newton-cg', max_iter=5000)\n",
    "LRclassifier.fit(X_train, y_train)\n",
    "\n",
    "y_pred = LRclassifier.predict(X_test)\n",
    "\n",
    "print(classification_report(y_test, y_pred))\n",
    "print(confusion_matrix(y_test, y_pred))\n",
    "\n",
    "from sklearn.metrics import accuracy_score\n",
    "LRAcc = accuracy_score(y_pred,y_test)\n",
    "print('Logistic Regression accuracy is: {:.2f}%'.format(LRAcc*100))"
   ]
  },
  {
   "cell_type": "code",
   "execution_count": 72,
   "id": "ac0fbd43",
   "metadata": {},
   "outputs": [
    {
     "name": "stdout",
     "output_type": "stream",
     "text": [
      "              precision    recall  f1-score   support\n",
      "\n",
      "           0       0.81      1.00      0.89      1009\n",
      "           1       0.00      0.00      0.00       241\n",
      "\n",
      "    accuracy                           0.81      1250\n",
      "   macro avg       0.40      0.50      0.45      1250\n",
      "weighted avg       0.65      0.81      0.72      1250\n",
      "\n",
      "[[1009    0]\n",
      " [ 241    0]]\n",
      "Logistic Regression accuracy is: 80.72%\n"
     ]
    }
   ],
   "source": [
    "from sklearn.linear_model import LogisticRegression\n",
    "LRclassifier = LogisticRegression(solver='sag', max_iter=5000)\n",
    "LRclassifier.fit(X_train, y_train)\n",
    "\n",
    "y_pred = LRclassifier.predict(X_test)\n",
    "\n",
    "print(classification_report(y_test, y_pred))\n",
    "print(confusion_matrix(y_test, y_pred))\n",
    "\n",
    "from sklearn.metrics import accuracy_score\n",
    "LRAcc = accuracy_score(y_pred,y_test)\n",
    "print('Logistic Regression accuracy is: {:.2f}%'.format(LRAcc*100))"
   ]
  },
  {
   "cell_type": "code",
   "execution_count": 73,
   "id": "edebd989",
   "metadata": {},
   "outputs": [
    {
     "name": "stdout",
     "output_type": "stream",
     "text": [
      "              precision    recall  f1-score   support\n",
      "\n",
      "           0       0.81      1.00      0.89      1009\n",
      "           1       0.00      0.00      0.00       241\n",
      "\n",
      "    accuracy                           0.81      1250\n",
      "   macro avg       0.40      0.50      0.45      1250\n",
      "weighted avg       0.65      0.81      0.72      1250\n",
      "\n",
      "[[1009    0]\n",
      " [ 241    0]]\n",
      "Logistic Regression accuracy is: 80.72%\n"
     ]
    }
   ],
   "source": [
    "from sklearn.linear_model import LogisticRegression\n",
    "LRclassifier = LogisticRegression(solver='saga', max_iter=5000)\n",
    "LRclassifier.fit(X_train, y_train)\n",
    "\n",
    "y_pred = LRclassifier.predict(X_test)\n",
    "\n",
    "print(classification_report(y_test, y_pred))\n",
    "print(confusion_matrix(y_test, y_pred))\n",
    "\n",
    "from sklearn.metrics import accuracy_score\n",
    "LRAcc = accuracy_score(y_pred,y_test)\n",
    "print('Logistic Regression accuracy is: {:.2f}%'.format(LRAcc*100))"
   ]
  },
  {
   "cell_type": "code",
   "execution_count": 74,
   "id": "4a6433a9",
   "metadata": {},
   "outputs": [
    {
     "name": "stdout",
     "output_type": "stream",
     "text": [
      "              precision    recall  f1-score   support\n",
      "\n",
      "           0       0.81      1.00      0.89      1009\n",
      "           1       0.00      0.00      0.00       241\n",
      "\n",
      "    accuracy                           0.81      1250\n",
      "   macro avg       0.40      0.50      0.45      1250\n",
      "weighted avg       0.65      0.81      0.72      1250\n",
      "\n",
      "[[1009    0]\n",
      " [ 241    0]]\n",
      "Logistic Regression accuracy is: 80.72%\n"
     ]
    }
   ],
   "source": [
    "from sklearn.linear_model import LogisticRegression\n",
    "LRclassifier = LogisticRegression(solver='lbfgs', max_iter=5000)\n",
    "LRclassifier.fit(X_train, y_train)\n",
    "\n",
    "y_pred = LRclassifier.predict(X_test)\n",
    "\n",
    "print(classification_report(y_test, y_pred))\n",
    "print(confusion_matrix(y_test, y_pred))\n",
    "\n",
    "from sklearn.metrics import accuracy_score\n",
    "LRAcc = accuracy_score(y_pred,y_test)\n",
    "print('Logistic Regression accuracy is: {:.2f}%'.format(LRAcc*100))"
   ]
  },
  {
   "cell_type": "markdown",
   "id": "19aa9364",
   "metadata": {},
   "source": [
    "# Support Vector Machines"
   ]
  },
  {
   "cell_type": "code",
   "execution_count": 75,
   "id": "ceb47a19",
   "metadata": {},
   "outputs": [
    {
     "name": "stdout",
     "output_type": "stream",
     "text": [
      "              precision    recall  f1-score   support\n",
      "\n",
      "           0       0.79      0.41      0.54      1009\n",
      "           1       0.18      0.55      0.27       241\n",
      "\n",
      "    accuracy                           0.43      1250\n",
      "   macro avg       0.49      0.48      0.41      1250\n",
      "weighted avg       0.67      0.43      0.49      1250\n",
      "\n",
      "[[410 599]\n",
      " [108 133]]\n",
      "SVC accuracy is: 43.44%\n"
     ]
    }
   ],
   "source": [
    "from sklearn.svm import SVC\n",
    "SVCclassifier = SVC(kernel='linear', max_iter=251)\n",
    "SVCclassifier.fit(X_train, y_train)\n",
    "\n",
    "y_pred = SVCclassifier.predict(X_test)\n",
    "\n",
    "print(classification_report(y_test, y_pred))\n",
    "print(confusion_matrix(y_test, y_pred))\n",
    "\n",
    "from sklearn.metrics import accuracy_score\n",
    "SVCAcc = accuracy_score(y_pred,y_test)\n",
    "print('SVC accuracy is: {:.2f}%'.format(SVCAcc*100))"
   ]
  },
  {
   "cell_type": "code",
   "execution_count": 76,
   "id": "59a4c054",
   "metadata": {},
   "outputs": [
    {
     "name": "stdout",
     "output_type": "stream",
     "text": [
      "              precision    recall  f1-score   support\n",
      "\n",
      "           0       0.81      1.00      0.89      1009\n",
      "           1       0.00      0.00      0.00       241\n",
      "\n",
      "    accuracy                           0.81      1250\n",
      "   macro avg       0.40      0.50      0.45      1250\n",
      "weighted avg       0.65      0.81      0.72      1250\n",
      "\n",
      "[[1009    0]\n",
      " [ 241    0]]\n",
      "SVC accuracy is: 80.72%\n"
     ]
    }
   ],
   "source": [
    "from sklearn.svm import SVC\n",
    "SVCclassifier = SVC(kernel='poly', max_iter=5000)\n",
    "SVCclassifier.fit(X_train, y_train)\n",
    "\n",
    "y_pred = SVCclassifier.predict(X_test)\n",
    "\n",
    "print(classification_report(y_test, y_pred))\n",
    "print(confusion_matrix(y_test, y_pred))\n",
    "\n",
    "from sklearn.metrics import accuracy_score\n",
    "SVCAcc = accuracy_score(y_pred,y_test)\n",
    "print('SVC accuracy is: {:.2f}%'.format(SVCAcc*100))"
   ]
  },
  {
   "cell_type": "code",
   "execution_count": 77,
   "id": "ce4f2fef",
   "metadata": {},
   "outputs": [
    {
     "name": "stdout",
     "output_type": "stream",
     "text": [
      "              precision    recall  f1-score   support\n",
      "\n",
      "           0       0.81      1.00      0.89      1009\n",
      "           1       0.00      0.00      0.00       241\n",
      "\n",
      "    accuracy                           0.81      1250\n",
      "   macro avg       0.40      0.50      0.45      1250\n",
      "weighted avg       0.65      0.81      0.72      1250\n",
      "\n",
      "[[1009    0]\n",
      " [ 241    0]]\n",
      "SVC accuracy is: 80.72%\n"
     ]
    }
   ],
   "source": [
    "from sklearn.svm import SVC\n",
    "SVCclassifier = SVC(kernel='poly')\n",
    "SVCclassifier.fit(X_train, y_train)\n",
    "\n",
    "y_pred = SVCclassifier.predict(X_test)\n",
    "\n",
    "print(classification_report(y_test, y_pred))\n",
    "print(confusion_matrix(y_test, y_pred))\n",
    "\n",
    "from sklearn.metrics import accuracy_score\n",
    "SVCAcc = accuracy_score(y_pred,y_test)\n",
    "print('SVC accuracy is: {:.2f}%'.format(SVCAcc*100))"
   ]
  },
  {
   "cell_type": "markdown",
   "id": "f0d94636",
   "metadata": {},
   "source": [
    "# K Neighbors"
   ]
  },
  {
   "cell_type": "code",
   "execution_count": 78,
   "id": "638f64fa",
   "metadata": {},
   "outputs": [
    {
     "name": "stdout",
     "output_type": "stream",
     "text": [
      "              precision    recall  f1-score   support\n",
      "\n",
      "           0       0.81      1.00      0.89      1009\n",
      "           1       0.00      0.00      0.00       241\n",
      "\n",
      "    accuracy                           0.81      1250\n",
      "   macro avg       0.40      0.50      0.45      1250\n",
      "weighted avg       0.65      0.81      0.72      1250\n",
      "\n",
      "[[1009    0]\n",
      " [ 241    0]]\n",
      "K Neighbours accuracy is: 80.72%\n"
     ]
    }
   ],
   "source": [
    "from sklearn.neighbors import KNeighborsClassifier\n",
    "KNclassifier = KNeighborsClassifier(n_neighbors=30)\n",
    "KNclassifier.fit(X_train, y_train)\n",
    "\n",
    "y_pred = KNclassifier.predict(X_test.values)\n",
    "\n",
    "print(classification_report(y_test, y_pred))\n",
    "print(confusion_matrix(y_test, y_pred))\n",
    "\n",
    "from sklearn.metrics import accuracy_score\n",
    "KNAcc = accuracy_score(y_pred,y_test)\n",
    "print('K Neighbours accuracy is: {:.2f}%'.format(KNAcc*100))"
   ]
  },
  {
   "cell_type": "code",
   "execution_count": 79,
   "id": "ddc788f9",
   "metadata": {},
   "outputs": [
    {
     "data": {
      "image/png": "[encoded data removed]",
      "text/plain": [
       "<Figure size 640x480 with 1 Axes>"
      ]
     },
     "metadata": {},
     "output_type": "display_data"
    },
    {
     "name": "stdout",
     "output_type": "stream",
     "text": [
      "KNeighbours Acc Max 80.80%\n"
     ]
    }
   ],
   "source": [
    "scoreListKN = []\n",
    "for i in range(2,50):\n",
    "    KNclassifier = KNeighborsClassifier(n_neighbors=i)\n",
    "    KNclassifier.fit(X_train, y_train)\n",
    "    scoreListKN.append(KNclassifier.score(X_test.values, y_test))\n",
    "    \n",
    "plt.plot(range(2,50), scoreListKN)\n",
    "plt.xticks(np.arange(2,50,5))\n",
    "plt.xlabel(\"KN Value\")\n",
    "plt.ylabel(\"Score\")\n",
    "plt.show()\n",
    "KNAccMax = max(scoreListKN)\n",
    "print(\"KNeighbours Acc Max {:.2f}%\".format(KNAccMax*100))"
   ]
  },
  {
   "cell_type": "markdown",
   "id": "2d1b4811",
   "metadata": {},
   "source": [
    "# Decision Tree"
   ]
  },
  {
   "cell_type": "code",
   "execution_count": 80,
   "id": "ff68dd4c",
   "metadata": {},
   "outputs": [
    {
     "name": "stdout",
     "output_type": "stream",
     "text": [
      "              precision    recall  f1-score   support\n",
      "\n",
      "           0       0.81      1.00      0.89      1009\n",
      "           1       0.00      0.00      0.00       241\n",
      "\n",
      "    accuracy                           0.81      1250\n",
      "   macro avg       0.40      0.50      0.45      1250\n",
      "weighted avg       0.65      0.81      0.72      1250\n",
      "\n",
      "[[1009    0]\n",
      " [ 241    0]]\n",
      "Decision Tree accuracy is: 80.72%\n"
     ]
    }
   ],
   "source": [
    "from sklearn.tree import DecisionTreeClassifier\n",
    "DTclassifier = DecisionTreeClassifier(max_leaf_nodes=2)\n",
    "DTclassifier.fit(X_train, y_train)\n",
    "\n",
    "y_pred = DTclassifier.predict(X_test)\n",
    "\n",
    "print(classification_report(y_test, y_pred))\n",
    "print(confusion_matrix(y_test, y_pred))\n",
    "\n",
    "from sklearn.metrics import accuracy_score\n",
    "DTAcc = accuracy_score(y_pred,y_test)\n",
    "print('Decision Tree accuracy is: {:.2f}%'.format(DTAcc*100))"
   ]
  },
  {
   "cell_type": "code",
   "execution_count": 81,
   "id": "644c9264",
   "metadata": {},
   "outputs": [
    {
     "data": {
      "image/png": "[encoded data removed]",
      "text/plain": [
       "<Figure size 640x480 with 1 Axes>"
      ]
     },
     "metadata": {},
     "output_type": "display_data"
    },
    {
     "name": "stdout",
     "output_type": "stream",
     "text": [
      "DT Acc Max 80.72%\n"
     ]
    }
   ],
   "source": [
    "scoreListDT = []\n",
    "for i in range(2,50):\n",
    "    DTclassifier = DecisionTreeClassifier(max_leaf_nodes=i)\n",
    "    DTclassifier.fit(X_train, y_train)\n",
    "    scoreListDT.append(DTclassifier.score(X_test, y_test))\n",
    "    \n",
    "plt.plot(range(2,50), scoreListDT)\n",
    "plt.xticks(np.arange(2,50,5))\n",
    "plt.xlabel(\"Leaf\")\n",
    "plt.ylabel(\"Score\")\n",
    "plt.show()\n",
    "DTAccMax = max(scoreListDT)\n",
    "print(\"DT Acc Max {:.2f}%\".format(DTAccMax*100))"
   ]
  },
  {
   "cell_type": "markdown",
   "id": "1dfabc68",
   "metadata": {},
   "source": [
    "# Random Forest"
   ]
  },
  {
   "cell_type": "code",
   "execution_count": 82,
   "id": "bbce9420",
   "metadata": {},
   "outputs": [
    {
     "name": "stdout",
     "output_type": "stream",
     "text": [
      "              precision    recall  f1-score   support\n",
      "\n",
      "           0       0.81      1.00      0.89      1009\n",
      "           1       0.00      0.00      0.00       241\n",
      "\n",
      "    accuracy                           0.81      1250\n",
      "   macro avg       0.40      0.50      0.45      1250\n",
      "weighted avg       0.65      0.81      0.72      1250\n",
      "\n",
      "[[1009    0]\n",
      " [ 241    0]]\n",
      "Random Forest accuracy is: 80.72%\n"
     ]
    }
   ],
   "source": [
    "from sklearn.ensemble import RandomForestClassifier\n",
    "\n",
    "RFclassifier = RandomForestClassifier(max_leaf_nodes=30)\n",
    "RFclassifier.fit(X_train, y_train)\n",
    "\n",
    "y_pred = RFclassifier.predict(X_test)\n",
    "\n",
    "print(classification_report(y_test, y_pred))\n",
    "print(confusion_matrix(y_test, y_pred))\n",
    "\n",
    "from sklearn.metrics import accuracy_score\n",
    "RFAcc = accuracy_score(y_pred,y_test)\n",
    "print('Random Forest accuracy is: {:.2f}%'.format(RFAcc*100))"
   ]
  },
  {
   "cell_type": "code",
   "execution_count": 83,
   "id": "2bdd95db",
   "metadata": {},
   "outputs": [
    {
     "data": {
      "image/png": "[encoded data removed]",
      "text/plain": [
       "<Figure size 640x480 with 1 Axes>"
      ]
     },
     "metadata": {},
     "output_type": "display_data"
    },
    {
     "name": "stdout",
     "output_type": "stream",
     "text": [
      "RF Acc Max 80.72%\n"
     ]
    }
   ],
   "source": [
    "# estimators is the number of tress it will create\n",
    "\n",
    "scoreListRF = []\n",
    "for i in range(2,50):\n",
    "    RFclassifier = RandomForestClassifier(n_estimators = 200, random_state = 1, max_leaf_nodes=i)\n",
    "    RFclassifier.fit(X_train, y_train)\n",
    "    scoreListRF.append(RFclassifier.score(X_test, y_test))\n",
    "    \n",
    "plt.plot(range(2,50), scoreListRF)\n",
    "plt.xticks(np.arange(2,50,5))\n",
    "plt.xlabel(\"RF Value\")\n",
    "plt.ylabel(\"Score\")\n",
    "plt.show()\n",
    "RFAccMax = max(scoreListRF)\n",
    "print(\"RF Acc Max {:.2f}%\".format(RFAccMax*100))"
   ]
  },
  {
   "cell_type": "markdown",
   "id": "c6ad9584",
   "metadata": {},
   "source": [
    "# Categorical Naive Bayes"
   ]
  },
  {
   "cell_type": "code",
   "execution_count": 84,
   "id": "85cf267d",
   "metadata": {},
   "outputs": [
    {
     "name": "stdout",
     "output_type": "stream",
     "text": [
      "              precision    recall  f1-score   support\n",
      "\n",
      "           0       0.81      0.98      0.89      1009\n",
      "           1       0.15      0.01      0.02       241\n",
      "\n",
      "    accuracy                           0.80      1250\n",
      "   macro avg       0.48      0.50      0.45      1250\n",
      "weighted avg       0.68      0.80      0.72      1250\n",
      "\n",
      "[[992  17]\n",
      " [238   3]]\n",
      "Naive Bayes accuracy is: 79.60%\n"
     ]
    }
   ],
   "source": [
    "# Naive Bayes from sklearn.naive_bayes import CategoricalNB\n",
    "from sklearn.naive_bayes import CategoricalNB\n",
    "\n",
    "NBclassifier1 = CategoricalNB()\n",
    "NBclassifier1.fit(X_train, y_train)\n",
    "\n",
    "y_pred = NBclassifier1.predict(X_test)\n",
    "\n",
    "print(classification_report(y_test, y_pred))\n",
    "print(confusion_matrix(y_test, y_pred))\n",
    "\n",
    "from sklearn.metrics import accuracy_score\n",
    "NBAcc1 = accuracy_score(y_pred,y_test)\n",
    "print('Naive Bayes accuracy is: {:.2f}%'.format(NBAcc1*100))"
   ]
  },
  {
   "cell_type": "markdown",
   "id": "da4da9f7",
   "metadata": {},
   "source": [
    "# Gaussian Naive Bayes"
   ]
  },
  {
   "cell_type": "code",
   "execution_count": 85,
   "id": "d002d6c7",
   "metadata": {},
   "outputs": [
    {
     "name": "stdout",
     "output_type": "stream",
     "text": [
      "              precision    recall  f1-score   support\n",
      "\n",
      "           0       0.81      1.00      0.89      1009\n",
      "           1       0.00      0.00      0.00       241\n",
      "\n",
      "    accuracy                           0.81      1250\n",
      "   macro avg       0.40      0.50      0.45      1250\n",
      "weighted avg       0.65      0.81      0.72      1250\n",
      "\n",
      "[[1009    0]\n",
      " [ 241    0]]\n",
      "Gaussian Naive Bayes accuracy is: 80.72%\n"
     ]
    }
   ],
   "source": [
    "# GaussianNB\n",
    "from sklearn.naive_bayes import GaussianNB\n",
    "NBclassifier2 = GaussianNB()\n",
    "NBclassifier2.fit(X_train, y_train)\n",
    "\n",
    "y_pred = NBclassifier2.predict(X_test)\n",
    "\n",
    "print(classification_report(y_test, y_pred))\n",
    "print(confusion_matrix(y_test, y_pred))\n",
    "\n",
    "from sklearn.metrics import accuracy_score\n",
    "NBAcc2 = accuracy_score(y_pred,y_test)\n",
    "print('Gaussian Naive Bayes accuracy is: {:.2f}%'.format(NBAcc2*100))"
   ]
  },
  {
   "cell_type": "code",
   "execution_count": 86,
   "id": "fa5772fe",
   "metadata": {},
   "outputs": [
    {
     "data": {
      "text/html": [
       "<div>\n",
       "<style scoped>\n",
       "    .dataframe tbody tr th:only-of-type {\n",
       "        vertical-align: middle;\n",
       "    }\n",
       "\n",
       "    .dataframe tbody tr th {\n",
       "        vertical-align: top;\n",
       "    }\n",
       "\n",
       "    .dataframe thead th {\n",
       "        text-align: right;\n",
       "    }\n",
       "</style>\n",
       "<table border=\"1\" class=\"dataframe\">\n",
       "  <thead>\n",
       "    <tr style=\"text-align: right;\">\n",
       "      <th></th>\n",
       "      <th>Model</th>\n",
       "      <th>Accuracy</th>\n",
       "    </tr>\n",
       "  </thead>\n",
       "  <tbody>\n",
       "    <tr>\n",
       "      <th>0</th>\n",
       "      <td>Logistic Regression</td>\n",
       "      <td>80.72</td>\n",
       "    </tr>\n",
       "    <tr>\n",
       "      <th>1</th>\n",
       "      <td>SVM</td>\n",
       "      <td>80.72</td>\n",
       "    </tr>\n",
       "    <tr>\n",
       "      <th>2</th>\n",
       "      <td>Decision Tree</td>\n",
       "      <td>80.72</td>\n",
       "    </tr>\n",
       "    <tr>\n",
       "      <th>3</th>\n",
       "      <td>Random Forest</td>\n",
       "      <td>80.72</td>\n",
       "    </tr>\n",
       "    <tr>\n",
       "      <th>4</th>\n",
       "      <td>GaussianNB</td>\n",
       "      <td>80.72</td>\n",
       "    </tr>\n",
       "    <tr>\n",
       "      <th>5</th>\n",
       "      <td>CategoricalNB</td>\n",
       "      <td>79.60</td>\n",
       "    </tr>\n",
       "  </tbody>\n",
       "</table>\n",
       "</div>"
      ],
      "text/plain": [
       "                 Model  Accuracy\n",
       "0  Logistic Regression     80.72\n",
       "1                  SVM     80.72\n",
       "2        Decision Tree     80.72\n",
       "3        Random Forest     80.72\n",
       "4           GaussianNB     80.72\n",
       "5        CategoricalNB     79.60"
      ]
     },
     "execution_count": 86,
     "metadata": {},
     "output_type": "execute_result"
    }
   ],
   "source": [
    "# accuracy of all models into a dataframe\n",
    "\n",
    "compare = pd.DataFrame({'Model': ['Logistic Regression', 'SVM', 'Decision Tree',  'Random Forest', 'GaussianNB', 'CategoricalNB'], \n",
    "                        'Accuracy': [LRAcc*100, SVCAcc*100, DTAcc*100, RFAcc*100, NBAcc2*100, NBAcc1*100]})\n",
    "compare.sort_values(by='Accuracy', ascending=False)"
   ]
  },
  {
   "cell_type": "code",
   "execution_count": 87,
   "id": "1190504d",
   "metadata": {},
   "outputs": [
    {
     "data": {
      "text/plain": [
       "<Axes: >"
      ]
     },
     "execution_count": 87,
     "metadata": {},
     "output_type": "execute_result"
    },
    {
     "data": {
      "image/png": "[encoded data removed]",
      "text/plain": [
       "<Figure size 640x480 with 2 Axes>"
      ]
     },
     "metadata": {},
     "output_type": "display_data"
    }
   ],
   "source": [
    "# true negative 0-0\n",
    "# actuals are y-test\n",
    "# heatmap\n",
    "\n",
    "import seaborn as sns\n",
    "from sklearn.metrics import confusion_matrix\n",
    "\n",
    "sns.heatmap(confusion_matrix(y_test, y_pred), annot = True, fmt = '.2f')"
   ]
  },
  {
   "cell_type": "code",
   "execution_count": 88,
   "id": "c59a8bfc",
   "metadata": {},
   "outputs": [],
   "source": [
    "# separate into train and test fror non-target variables\n",
    "# and target variables\n",
    "# 80 % train 20% test\n",
    "\n",
    "X = df1.drop([\"default_status\"], axis=1)\n",
    "y = df1[\"default_status\"]\n",
    "\n",
    "from sklearn.model_selection import train_test_split\n",
    "\n",
    "X_train, X_test, y_train, y_test = train_test_split(X, y, test_size = 0.2, random_state = 0)"
   ]
  },
  {
   "cell_type": "markdown",
   "id": "fcc349af",
   "metadata": {},
   "source": [
    "# Logistic Regression"
   ]
  },
  {
   "cell_type": "code",
   "execution_count": 89,
   "id": "a9754eba",
   "metadata": {},
   "outputs": [
    {
     "name": "stdout",
     "output_type": "stream",
     "text": [
      "              precision    recall  f1-score   support\n",
      "\n",
      "           0       0.82      1.00      0.90       820\n",
      "           1       0.00      0.00      0.00       180\n",
      "\n",
      "    accuracy                           0.82      1000\n",
      "   macro avg       0.41      0.50      0.45      1000\n",
      "weighted avg       0.67      0.82      0.74      1000\n",
      "\n",
      "[[820   0]\n",
      " [180   0]]\n",
      "Logistic Regression accuracy is: 82.00%\n"
     ]
    }
   ],
   "source": [
    "from sklearn.linear_model import LogisticRegression\n",
    "LRclassifier = LogisticRegression(solver='liblinear', max_iter=5000)\n",
    "LRclassifier.fit(X_train, y_train)\n",
    "\n",
    "y_pred = LRclassifier.predict(X_test)\n",
    "\n",
    "print(classification_report(y_test, y_pred))\n",
    "print(confusion_matrix(y_test, y_pred))\n",
    "\n",
    "from sklearn.metrics import accuracy_score\n",
    "LRAcc = accuracy_score(y_pred,y_test)\n",
    "print('Logistic Regression accuracy is: {:.2f}%'.format(LRAcc*100))"
   ]
  },
  {
   "cell_type": "code",
   "execution_count": 90,
   "id": "6590a82e",
   "metadata": {},
   "outputs": [
    {
     "name": "stdout",
     "output_type": "stream",
     "text": [
      "              precision    recall  f1-score   support\n",
      "\n",
      "           0       0.82      1.00      0.90       820\n",
      "           1       0.00      0.00      0.00       180\n",
      "\n",
      "    accuracy                           0.82      1000\n",
      "   macro avg       0.41      0.50      0.45      1000\n",
      "weighted avg       0.67      0.82      0.74      1000\n",
      "\n",
      "[[820   0]\n",
      " [180   0]]\n",
      "Logistic Regression accuracy is: 82.00%\n"
     ]
    }
   ],
   "source": [
    "from sklearn.linear_model import LogisticRegression\n",
    "LRclassifier = LogisticRegression(solver='newton-cg', max_iter=5000)\n",
    "LRclassifier.fit(X_train, y_train)\n",
    "\n",
    "y_pred = LRclassifier.predict(X_test)\n",
    "\n",
    "print(classification_report(y_test, y_pred))\n",
    "print(confusion_matrix(y_test, y_pred))\n",
    "\n",
    "from sklearn.metrics import accuracy_score\n",
    "LRAcc = accuracy_score(y_pred,y_test)\n",
    "print('Logistic Regression accuracy is: {:.2f}%'.format(LRAcc*100))"
   ]
  },
  {
   "cell_type": "code",
   "execution_count": 91,
   "id": "11085d8a",
   "metadata": {},
   "outputs": [
    {
     "name": "stdout",
     "output_type": "stream",
     "text": [
      "              precision    recall  f1-score   support\n",
      "\n",
      "           0       0.82      1.00      0.90       820\n",
      "           1       0.00      0.00      0.00       180\n",
      "\n",
      "    accuracy                           0.82      1000\n",
      "   macro avg       0.41      0.50      0.45      1000\n",
      "weighted avg       0.67      0.82      0.74      1000\n",
      "\n",
      "[[820   0]\n",
      " [180   0]]\n",
      "Logistic Regression accuracy is: 82.00%\n"
     ]
    }
   ],
   "source": [
    "from sklearn.linear_model import LogisticRegression\n",
    "LRclassifier = LogisticRegression(solver='sag', max_iter=5000)\n",
    "LRclassifier.fit(X_train, y_train)\n",
    "\n",
    "y_pred = LRclassifier.predict(X_test)\n",
    "\n",
    "print(classification_report(y_test, y_pred))\n",
    "print(confusion_matrix(y_test, y_pred))\n",
    "\n",
    "from sklearn.metrics import accuracy_score\n",
    "LRAcc = accuracy_score(y_pred,y_test)\n",
    "print('Logistic Regression accuracy is: {:.2f}%'.format(LRAcc*100))"
   ]
  },
  {
   "cell_type": "code",
   "execution_count": 92,
   "id": "2adff289",
   "metadata": {},
   "outputs": [
    {
     "name": "stdout",
     "output_type": "stream",
     "text": [
      "              precision    recall  f1-score   support\n",
      "\n",
      "           0       0.82      1.00      0.90       820\n",
      "           1       0.00      0.00      0.00       180\n",
      "\n",
      "    accuracy                           0.82      1000\n",
      "   macro avg       0.41      0.50      0.45      1000\n",
      "weighted avg       0.67      0.82      0.74      1000\n",
      "\n",
      "[[820   0]\n",
      " [180   0]]\n",
      "Logistic Regression accuracy is: 82.00%\n"
     ]
    }
   ],
   "source": [
    "from sklearn.linear_model import LogisticRegression\n",
    "LRclassifier = LogisticRegression(solver='saga', max_iter=5000)\n",
    "LRclassifier.fit(X_train, y_train)\n",
    "\n",
    "y_pred = LRclassifier.predict(X_test)\n",
    "\n",
    "print(classification_report(y_test, y_pred))\n",
    "print(confusion_matrix(y_test, y_pred))\n",
    "\n",
    "from sklearn.metrics import accuracy_score\n",
    "LRAcc = accuracy_score(y_pred,y_test)\n",
    "print('Logistic Regression accuracy is: {:.2f}%'.format(LRAcc*100))"
   ]
  },
  {
   "cell_type": "code",
   "execution_count": 93,
   "id": "fc4491be",
   "metadata": {},
   "outputs": [
    {
     "name": "stdout",
     "output_type": "stream",
     "text": [
      "              precision    recall  f1-score   support\n",
      "\n",
      "           0       0.82      1.00      0.90       820\n",
      "           1       0.00      0.00      0.00       180\n",
      "\n",
      "    accuracy                           0.82      1000\n",
      "   macro avg       0.41      0.50      0.45      1000\n",
      "weighted avg       0.67      0.82      0.74      1000\n",
      "\n",
      "[[820   0]\n",
      " [180   0]]\n",
      "Logistic Regression accuracy is: 82.00%\n"
     ]
    }
   ],
   "source": [
    "from sklearn.linear_model import LogisticRegression\n",
    "LRclassifier = LogisticRegression(solver='lbfgs', max_iter=5000)\n",
    "LRclassifier.fit(X_train, y_train)\n",
    "\n",
    "y_pred = LRclassifier.predict(X_test)\n",
    "\n",
    "print(classification_report(y_test, y_pred))\n",
    "print(confusion_matrix(y_test, y_pred))\n",
    "\n",
    "from sklearn.metrics import accuracy_score\n",
    "LRAcc = accuracy_score(y_pred,y_test)\n",
    "print('Logistic Regression accuracy is: {:.2f}%'.format(LRAcc*100))"
   ]
  },
  {
   "cell_type": "markdown",
   "id": "de021623",
   "metadata": {},
   "source": [
    "# Support Vector Machines"
   ]
  },
  {
   "cell_type": "code",
   "execution_count": 94,
   "id": "c11b6116",
   "metadata": {},
   "outputs": [
    {
     "name": "stdout",
     "output_type": "stream",
     "text": [
      "              precision    recall  f1-score   support\n",
      "\n",
      "           0       0.81      0.55      0.65       820\n",
      "           1       0.17      0.42      0.24       180\n",
      "\n",
      "    accuracy                           0.53      1000\n",
      "   macro avg       0.49      0.48      0.45      1000\n",
      "weighted avg       0.70      0.53      0.58      1000\n",
      "\n",
      "[[449 371]\n",
      " [104  76]]\n",
      "SVC accuracy is: 52.50%\n"
     ]
    }
   ],
   "source": [
    "from sklearn.svm import SVC\n",
    "SVCclassifier = SVC(kernel='linear', max_iter=251)\n",
    "SVCclassifier.fit(X_train, y_train)\n",
    "\n",
    "y_pred = SVCclassifier.predict(X_test)\n",
    "\n",
    "print(classification_report(y_test, y_pred))\n",
    "print(confusion_matrix(y_test, y_pred))\n",
    "\n",
    "from sklearn.metrics import accuracy_score\n",
    "SVCAcc = accuracy_score(y_pred,y_test)\n",
    "print('SVC accuracy is: {:.2f}%'.format(SVCAcc*100))"
   ]
  },
  {
   "cell_type": "code",
   "execution_count": 95,
   "id": "fdebbc20",
   "metadata": {},
   "outputs": [
    {
     "name": "stdout",
     "output_type": "stream",
     "text": [
      "              precision    recall  f1-score   support\n",
      "\n",
      "           0       0.82      1.00      0.90       820\n",
      "           1       0.00      0.00      0.00       180\n",
      "\n",
      "    accuracy                           0.82      1000\n",
      "   macro avg       0.41      0.50      0.45      1000\n",
      "weighted avg       0.67      0.82      0.74      1000\n",
      "\n",
      "[[820   0]\n",
      " [180   0]]\n",
      "SVC accuracy is: 82.00%\n"
     ]
    }
   ],
   "source": [
    "from sklearn.svm import SVC\n",
    "SVCclassifier = SVC(kernel='poly', max_iter=5000)\n",
    "SVCclassifier.fit(X_train, y_train)\n",
    "\n",
    "y_pred = SVCclassifier.predict(X_test)\n",
    "\n",
    "print(classification_report(y_test, y_pred))\n",
    "print(confusion_matrix(y_test, y_pred))\n",
    "\n",
    "from sklearn.metrics import accuracy_score\n",
    "SVCAcc = accuracy_score(y_pred,y_test)\n",
    "print('SVC accuracy is: {:.2f}%'.format(SVCAcc*100))"
   ]
  },
  {
   "cell_type": "code",
   "execution_count": 96,
   "id": "82e72042",
   "metadata": {},
   "outputs": [
    {
     "name": "stdout",
     "output_type": "stream",
     "text": [
      "              precision    recall  f1-score   support\n",
      "\n",
      "           0       0.82      1.00      0.90       820\n",
      "           1       0.00      0.00      0.00       180\n",
      "\n",
      "    accuracy                           0.82      1000\n",
      "   macro avg       0.41      0.50      0.45      1000\n",
      "weighted avg       0.67      0.82      0.74      1000\n",
      "\n",
      "[[820   0]\n",
      " [180   0]]\n",
      "SVC accuracy is: 82.00%\n"
     ]
    }
   ],
   "source": [
    "from sklearn.svm import SVC\n",
    "SVCclassifier = SVC(kernel='poly')\n",
    "SVCclassifier.fit(X_train, y_train)\n",
    "\n",
    "y_pred = SVCclassifier.predict(X_test)\n",
    "\n",
    "print(classification_report(y_test, y_pred))\n",
    "print(confusion_matrix(y_test, y_pred))\n",
    "\n",
    "from sklearn.metrics import accuracy_score\n",
    "SVCAcc = accuracy_score(y_pred,y_test)\n",
    "print('SVC accuracy is: {:.2f}%'.format(SVCAcc*100))"
   ]
  },
  {
   "cell_type": "markdown",
   "id": "9221796c",
   "metadata": {},
   "source": [
    "# K Neighbors"
   ]
  },
  {
   "cell_type": "code",
   "execution_count": 97,
   "id": "17a0a4f3",
   "metadata": {},
   "outputs": [
    {
     "name": "stdout",
     "output_type": "stream",
     "text": [
      "              precision    recall  f1-score   support\n",
      "\n",
      "           0       0.82      1.00      0.90       820\n",
      "           1       0.00      0.00      0.00       180\n",
      "\n",
      "    accuracy                           0.82      1000\n",
      "   macro avg       0.41      0.50      0.45      1000\n",
      "weighted avg       0.67      0.82      0.74      1000\n",
      "\n",
      "[[820   0]\n",
      " [180   0]]\n",
      "K Neighbours accuracy is: 82.00%\n"
     ]
    }
   ],
   "source": [
    "from sklearn.neighbors import KNeighborsClassifier\n",
    "KNclassifier = KNeighborsClassifier(n_neighbors=30)\n",
    "KNclassifier.fit(X_train, y_train)\n",
    "\n",
    "y_pred = KNclassifier.predict(X_test.values)\n",
    "\n",
    "print(classification_report(y_test, y_pred))\n",
    "print(confusion_matrix(y_test, y_pred))\n",
    "\n",
    "from sklearn.metrics import accuracy_score\n",
    "KNAcc = accuracy_score(y_pred,y_test)\n",
    "print('K Neighbours accuracy is: {:.2f}%'.format(KNAcc*100))"
   ]
  },
  {
   "cell_type": "code",
   "execution_count": 98,
   "id": "32ba6d1b",
   "metadata": {},
   "outputs": [
    {
     "data": {
      "image/png": "[encoded data removed]",
      "text/plain": [
       "<Figure size 640x480 with 1 Axes>"
      ]
     },
     "metadata": {},
     "output_type": "display_data"
    },
    {
     "name": "stdout",
     "output_type": "stream",
     "text": [
      "KNeighbours Acc Max 82.10%\n"
     ]
    }
   ],
   "source": [
    "scoreListKN = []\n",
    "for i in range(2,50):\n",
    "    KNclassifier = KNeighborsClassifier(n_neighbors=i)\n",
    "    KNclassifier.fit(X_train, y_train)\n",
    "    scoreListKN.append(KNclassifier.score(X_test.values, y_test))\n",
    "    \n",
    "plt.plot(range(2,50), scoreListKN)\n",
    "plt.xticks(np.arange(2,50,5))\n",
    "plt.xlabel(\"KN Value\")\n",
    "plt.ylabel(\"Score\")\n",
    "plt.show()\n",
    "KNAccMax = max(scoreListKN)\n",
    "print(\"KNeighbours Acc Max {:.2f}%\".format(KNAccMax*100))"
   ]
  },
  {
   "cell_type": "markdown",
   "id": "10ca771a",
   "metadata": {},
   "source": [
    "# Decision Tree"
   ]
  },
  {
   "cell_type": "code",
   "execution_count": 99,
   "id": "27d77753",
   "metadata": {},
   "outputs": [
    {
     "name": "stdout",
     "output_type": "stream",
     "text": [
      "              precision    recall  f1-score   support\n",
      "\n",
      "           0       0.82      1.00      0.90       820\n",
      "           1       0.00      0.00      0.00       180\n",
      "\n",
      "    accuracy                           0.82      1000\n",
      "   macro avg       0.41      0.50      0.45      1000\n",
      "weighted avg       0.67      0.82      0.74      1000\n",
      "\n",
      "[[820   0]\n",
      " [180   0]]\n",
      "Decision Tree accuracy is: 82.00%\n"
     ]
    }
   ],
   "source": [
    "from sklearn.tree import DecisionTreeClassifier\n",
    "DTclassifier = DecisionTreeClassifier(max_leaf_nodes=2)\n",
    "DTclassifier.fit(X_train, y_train)\n",
    "\n",
    "y_pred = DTclassifier.predict(X_test)\n",
    "\n",
    "print(classification_report(y_test, y_pred))\n",
    "print(confusion_matrix(y_test, y_pred))\n",
    "\n",
    "from sklearn.metrics import accuracy_score\n",
    "DTAcc = accuracy_score(y_pred,y_test)\n",
    "print('Decision Tree accuracy is: {:.2f}%'.format(DTAcc*100))"
   ]
  },
  {
   "cell_type": "code",
   "execution_count": 100,
   "id": "36c118ff",
   "metadata": {},
   "outputs": [
    {
     "data": {
      "image/png": "[encoded data removed]",
      "text/plain": [
       "<Figure size 640x480 with 1 Axes>"
      ]
     },
     "metadata": {},
     "output_type": "display_data"
    },
    {
     "name": "stdout",
     "output_type": "stream",
     "text": [
      "DT Acc Max 82.00%\n"
     ]
    }
   ],
   "source": [
    "scoreListDT = []\n",
    "for i in range(2,50):\n",
    "    DTclassifier = DecisionTreeClassifier(max_leaf_nodes=i)\n",
    "    DTclassifier.fit(X_train, y_train)\n",
    "    scoreListDT.append(DTclassifier.score(X_test, y_test))\n",
    "    \n",
    "plt.plot(range(2,50), scoreListDT)\n",
    "plt.xticks(np.arange(2,50,5))\n",
    "plt.xlabel(\"Leaf\")\n",
    "plt.ylabel(\"Score\")\n",
    "plt.show()\n",
    "DTAccMax = max(scoreListDT)\n",
    "print(\"DT Acc Max {:.2f}%\".format(DTAccMax*100))"
   ]
  },
  {
   "cell_type": "markdown",
   "id": "7e466a0d",
   "metadata": {},
   "source": [
    "# Random Forest"
   ]
  },
  {
   "cell_type": "code",
   "execution_count": 101,
   "id": "55f67bf3",
   "metadata": {},
   "outputs": [
    {
     "name": "stdout",
     "output_type": "stream",
     "text": [
      "              precision    recall  f1-score   support\n",
      "\n",
      "           0       0.82      1.00      0.90       820\n",
      "           1       0.00      0.00      0.00       180\n",
      "\n",
      "    accuracy                           0.82      1000\n",
      "   macro avg       0.41      0.50      0.45      1000\n",
      "weighted avg       0.67      0.82      0.74      1000\n",
      "\n",
      "[[820   0]\n",
      " [180   0]]\n",
      "Random Forest accuracy is: 82.00%\n"
     ]
    }
   ],
   "source": [
    "from sklearn.ensemble import RandomForestClassifier\n",
    "\n",
    "RFclassifier = RandomForestClassifier(max_leaf_nodes=30)\n",
    "RFclassifier.fit(X_train, y_train)\n",
    "\n",
    "y_pred = RFclassifier.predict(X_test)\n",
    "\n",
    "print(classification_report(y_test, y_pred))\n",
    "print(confusion_matrix(y_test, y_pred))\n",
    "\n",
    "from sklearn.metrics import accuracy_score\n",
    "RFAcc = accuracy_score(y_pred,y_test)\n",
    "print('Random Forest accuracy is: {:.2f}%'.format(RFAcc*100))"
   ]
  },
  {
   "cell_type": "code",
   "execution_count": 102,
   "id": "259f09f9",
   "metadata": {},
   "outputs": [
    {
     "data": {
      "image/png": "[encoded data removed]",
      "text/plain": [
       "<Figure size 640x480 with 1 Axes>"
      ]
     },
     "metadata": {},
     "output_type": "display_data"
    },
    {
     "name": "stdout",
     "output_type": "stream",
     "text": [
      "RF Acc Max 82.00%\n"
     ]
    }
   ],
   "source": [
    "# estimators is the number of tress it will create\n",
    "\n",
    "scoreListRF = []\n",
    "for i in range(2,50):\n",
    "    RFclassifier = RandomForestClassifier(n_estimators = 200, random_state = 1, max_leaf_nodes=i)\n",
    "    RFclassifier.fit(X_train, y_train)\n",
    "    scoreListRF.append(RFclassifier.score(X_test, y_test))\n",
    "    \n",
    "plt.plot(range(2,50), scoreListRF)\n",
    "plt.xticks(np.arange(2,50,5))\n",
    "plt.xlabel(\"RF Value\")\n",
    "plt.ylabel(\"Score\")\n",
    "plt.show()\n",
    "RFAccMax = max(scoreListRF)\n",
    "print(\"RF Acc Max {:.2f}%\".format(RFAccMax*100))"
   ]
  },
  {
   "cell_type": "markdown",
   "id": "695e3976",
   "metadata": {},
   "source": [
    "# Categorical Naive Bayes"
   ]
  },
  {
   "cell_type": "code",
   "execution_count": 103,
   "id": "28f20cfb",
   "metadata": {},
   "outputs": [
    {
     "name": "stdout",
     "output_type": "stream",
     "text": [
      "              precision    recall  f1-score   support\n",
      "\n",
      "           0       0.82      0.98      0.89       820\n",
      "           1       0.07      0.01      0.01       180\n",
      "\n",
      "    accuracy                           0.81      1000\n",
      "   macro avg       0.44      0.49      0.45      1000\n",
      "weighted avg       0.68      0.81      0.73      1000\n",
      "\n",
      "[[807  13]\n",
      " [179   1]]\n",
      "Naive Bayes accuracy is: 80.80%\n"
     ]
    }
   ],
   "source": [
    "# Naive Bayes from sklearn.naive_bayes import CategoricalNB\n",
    "from sklearn.naive_bayes import CategoricalNB\n",
    "\n",
    "NBclassifier1 = CategoricalNB()\n",
    "NBclassifier1.fit(X_train, y_train)\n",
    "\n",
    "y_pred = NBclassifier1.predict(X_test)\n",
    "\n",
    "print(classification_report(y_test, y_pred))\n",
    "print(confusion_matrix(y_test, y_pred))\n",
    "\n",
    "from sklearn.metrics import accuracy_score\n",
    "NBAcc1 = accuracy_score(y_pred,y_test)\n",
    "print('Naive Bayes accuracy is: {:.2f}%'.format(NBAcc1*100))"
   ]
  },
  {
   "cell_type": "markdown",
   "id": "c1ebc98c",
   "metadata": {},
   "source": [
    "# Gaussian Naive Bayes"
   ]
  },
  {
   "cell_type": "code",
   "execution_count": 104,
   "id": "47b0b6d2",
   "metadata": {},
   "outputs": [
    {
     "name": "stdout",
     "output_type": "stream",
     "text": [
      "              precision    recall  f1-score   support\n",
      "\n",
      "           0       0.82      1.00      0.90       820\n",
      "           1       0.00      0.00      0.00       180\n",
      "\n",
      "    accuracy                           0.82      1000\n",
      "   macro avg       0.41      0.50      0.45      1000\n",
      "weighted avg       0.67      0.82      0.74      1000\n",
      "\n",
      "[[820   0]\n",
      " [180   0]]\n",
      "Gaussian Naive Bayes accuracy is: 82.00%\n"
     ]
    }
   ],
   "source": [
    "# GaussianNB\n",
    "from sklearn.naive_bayes import GaussianNB\n",
    "NBclassifier2 = GaussianNB()\n",
    "NBclassifier2.fit(X_train, y_train)\n",
    "\n",
    "y_pred = NBclassifier2.predict(X_test)\n",
    "\n",
    "print(classification_report(y_test, y_pred))\n",
    "print(confusion_matrix(y_test, y_pred))\n",
    "\n",
    "from sklearn.metrics import accuracy_score\n",
    "NBAcc2 = accuracy_score(y_pred,y_test)\n",
    "print('Gaussian Naive Bayes accuracy is: {:.2f}%'.format(NBAcc2*100))"
   ]
  },
  {
   "cell_type": "code",
   "execution_count": 105,
   "id": "6c8194e5",
   "metadata": {},
   "outputs": [
    {
     "data": {
      "text/html": [
       "<div>\n",
       "<style scoped>\n",
       "    .dataframe tbody tr th:only-of-type {\n",
       "        vertical-align: middle;\n",
       "    }\n",
       "\n",
       "    .dataframe tbody tr th {\n",
       "        vertical-align: top;\n",
       "    }\n",
       "\n",
       "    .dataframe thead th {\n",
       "        text-align: right;\n",
       "    }\n",
       "</style>\n",
       "<table border=\"1\" class=\"dataframe\">\n",
       "  <thead>\n",
       "    <tr style=\"text-align: right;\">\n",
       "      <th></th>\n",
       "      <th>Model</th>\n",
       "      <th>Accuracy</th>\n",
       "    </tr>\n",
       "  </thead>\n",
       "  <tbody>\n",
       "    <tr>\n",
       "      <th>0</th>\n",
       "      <td>Logistic Regression</td>\n",
       "      <td>82.0</td>\n",
       "    </tr>\n",
       "    <tr>\n",
       "      <th>1</th>\n",
       "      <td>SVM</td>\n",
       "      <td>82.0</td>\n",
       "    </tr>\n",
       "    <tr>\n",
       "      <th>2</th>\n",
       "      <td>Decision Tree</td>\n",
       "      <td>82.0</td>\n",
       "    </tr>\n",
       "    <tr>\n",
       "      <th>3</th>\n",
       "      <td>Random Forest</td>\n",
       "      <td>82.0</td>\n",
       "    </tr>\n",
       "    <tr>\n",
       "      <th>4</th>\n",
       "      <td>GaussianNB</td>\n",
       "      <td>82.0</td>\n",
       "    </tr>\n",
       "    <tr>\n",
       "      <th>5</th>\n",
       "      <td>CategoricalNB</td>\n",
       "      <td>80.8</td>\n",
       "    </tr>\n",
       "  </tbody>\n",
       "</table>\n",
       "</div>"
      ],
      "text/plain": [
       "                 Model  Accuracy\n",
       "0  Logistic Regression      82.0\n",
       "1                  SVM      82.0\n",
       "2        Decision Tree      82.0\n",
       "3        Random Forest      82.0\n",
       "4           GaussianNB      82.0\n",
       "5        CategoricalNB      80.8"
      ]
     },
     "execution_count": 105,
     "metadata": {},
     "output_type": "execute_result"
    }
   ],
   "source": [
    "# accuracy of all models into a dataframe\n",
    "\n",
    "compare = pd.DataFrame({'Model': ['Logistic Regression', 'SVM', 'Decision Tree',  'Random Forest', 'GaussianNB', 'CategoricalNB'], \n",
    "                        'Accuracy': [LRAcc*100, SVCAcc*100, DTAcc*100, RFAcc*100, NBAcc2*100, NBAcc1*100]})\n",
    "compare.sort_values(by='Accuracy', ascending=False)"
   ]
  },
  {
   "cell_type": "code",
   "execution_count": 106,
   "id": "fd262e7a",
   "metadata": {},
   "outputs": [
    {
     "data": {
      "text/plain": [
       "<Axes: >"
      ]
     },
     "execution_count": 106,
     "metadata": {},
     "output_type": "execute_result"
    },
    {
     "data": {
      "image/png": "[encoded data removed]",
      "text/plain": [
       "<Figure size 640x480 with 2 Axes>"
      ]
     },
     "metadata": {},
     "output_type": "display_data"
    }
   ],
   "source": [
    "# true negative 0-0\n",
    "# actuals are y-test\n",
    "# heatmap\n",
    "\n",
    "import seaborn as sns\n",
    "from sklearn.metrics import confusion_matrix\n",
    "\n",
    "sns.heatmap(confusion_matrix(y_test, y_pred), annot = True, fmt = '.2f')"
   ]
  }
 ],
 "metadata": {
  "kernelspec": {
   "display_name": "Python 3 (ipykernel)",
   "language": "python",
   "name": "python3"
  },
  "language_info": {
   "codemirror_mode": {
    "name": "ipython",
    "version": 3
   },
   "file_extension": ".py",
   "mimetype": "text/x-python",
   "name": "python",
   "nbconvert_exporter": "python",
   "pygments_lexer": "ipython3",
   "version": "3.11.5"
  }
 },
 "nbformat": 4,
 "nbformat_minor": 5
}
